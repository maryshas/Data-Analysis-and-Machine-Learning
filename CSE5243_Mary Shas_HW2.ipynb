{
 "cells": [
  {
   "cell_type": "markdown",
   "metadata": {
    "tags": []
   },
   "source": [
    "### CSE 5243 - Introduction to Data Mining\n",
    "## Homework 2: CRISP_DM Steps 4-5\n",
    "Replace the example information below with your real information:\n",
    "- Semester: Autumn 2024\n",
    "- Instructor: Tom Bihari\n",
    "- Section Tue/Thu 12:45PM\n",
    "- Student Name: Mary Shas Anak Rowin Umpok\n",
    "- Student Email: anakrowinumpok.1@osu.edu\n",
    "- Student ID: 500611954\n",
    "\n",
    "Based on CRISP-DM Template Version V15."
   ]
  },
  {
   "cell_type": "markdown",
   "metadata": {
    "tags": []
   },
   "source": [
    "***\n",
    "# Section: Overview\n",
    "- Insert a short description of the scope of this exercise, any supporting information, etc.\n",
    "- **(I will fill this in for each assignment - Tom Bihari)**\n",
    "***"
   ]
  },
  {
   "cell_type": "markdown",
   "metadata": {},
   "source": [
    "### Assignment Overview\n",
    "In this assignment, you will use a **MODIFIED** copy of the “Bank Marketing” dataset.\n",
    "- This dataset was pulled from: https://archive.ics.uci.edu/dataset/222/bank+marketing\n",
    "- Dataset citation: Moro,S., Rita,P., and Cortez,P.. (2012). Bank Marketing. UCI Machine Learning Repository. https://doi.org/10.24432/C5K306.\n",
    "- Use the **copy of the dataset provided to you** for this assignment.\n",
    "- The dataset was **modified** to highlight important aspects of data mining (e.g., data cleaning), so **DO NOT publish or otherwise use this dataset for purposes other than this assignment**.\n",
    "\n",
    "**NOTE: Since you already have pre-processed this dataset in the previous assignment, you may choose to use your \"cleaned up\" dataset from that assignment, or you may re-doing the work here.**\n",
    "\n",
    "This assignment covers the **steps 4 and 5 of the six steps** of the **CRISP-DM process model** (Modeling and Evaluation). (See the CRISP-DM materials on CARMEN.)\n",
    "\n",
    "The **objectives** of this assignment are:\n",
    "- Solve a business problem by creating, evaluating, and comparing three classification models, and produce the outputs needed to provide business value for your stakeholders.\n",
    "- Experiment with built-in classification models in **scikit-learn**.\n",
    "\n",
    "### Problem Statement\n",
    "Assume that you are the Director of Marketing Analytics for Buckeye Bank Inc (BBI).  BBI wants to improve its market share.\n",
    "- BBI has obtained data on its existing marketing campaigns.\n",
    "- In the previous assignment, BBI leadership asked your team to analyze the data, and determine if it is suitable for developing analyses and models that would be effective in improving the marketing campaigns at BBI.\n",
    "- Based on this analysis, BBI has decided to make improvements to specific aspects of their marketing, with a goal of improving BBI's overall marketing performance.  As a first step, BBI has decided to use data similar to the original dataset to fine tune their marketing efforts to concentrate on prospective customers who are likely to subscribe to their services.\n",
    "\n",
    "### Supporting Detail (Warning: This is completely unrealistic and oversimplified!)\n",
    "In a typical year, BBI develops a list of approximately 40000 prospective customers (prospects).  BBI classifies these prospects into two classes.  BBI would like your team to create a prediction model to help guide the sales representatives.\n",
    "- A predicted **TRUE** prospect (**y** class = \"yes\") is one they predict will purchase their services. They will be contacted one or more times. For simplicity, assume the total sales cost is fixed at $\\$$50, regardless of the actual number of contacts. (This is unrealistic!)\n",
    "- A predicted **FALSE** prospect (**y** class = \"no\") is one they predict will NOT purchase their services. They will not be contacted, so the total sales cost is $\\$$0.\n",
    "\n",
    "A successful sale to a prospect benefits BBI $\\$$200.\n",
    "\n",
    "### Things To Do\n",
    "**In the previous assignment**, you completed the sections for steps 2 and 3 of CRISP-DM.  You **explored** the dataset and **prepared** a clean dataset from it that contains the kind of information you think might be useful.  You now will make use of the dataset.  **NOTE: You may choose to revise your results for steps 2 and 3 from the previous assignment, based on learnings from that asignment.**\n",
    "\n",
    "You now must **develop** and **evaluate** specific classification models for predicting the **y** \"class\" variable.  You will try the **off-the-shelf KNN classifier**, and **two other classifiers of your choice**.\n",
    "\n",
    "Complete **Sections 4 and 5** of CRISP-DM in this notebook (and the **Conclusion**). \n",
    "\n",
    "Some intial guidance / sugggestions:\n",
    "\n",
    "- You must develop a \"cost\" model from the problem statement above.  Consider creating a table that lists the benefit and cost amounts for a decision on a **single prospect**.  Note that the prospect will be contacted if Predicted is True, and the contacts will result in a successful sale if Actual is True:\n",
    "\n",
    "| Actual Class | Predicted Class | Sale Benefit | Sale Cost | Net Benefit (Benefit-Cost) |\n",
    "|---|---|---|---|---|\n",
    "| FALSE | FALSE | ? | ? | ? |\n",
    "| FALSE | TRUE  | ? | ? | ? |\n",
    "| TRUE  | FALSE | ? | ? | ? |\n",
    "| TRUE  | TRUE  | ? | ? | ? |\n",
    "\n",
    "- When evaluating your classification models, consider both the benefit or cost \"per prospect\" and \"per year\" overall (since the latter is important to the BBI decision-making process).\n",
    "\n",
    "- Much of the code below may be repetitive.  Consider creating a few reusable functions that can be called for each of the models you build (e.g., evaluation functions).\n",
    "\n",
    "- **Follow the instructions** in each of the sections below.\n",
    "\n",
    "It is essential that you **communicate** your goals, thought process, actions, results, and conclusions to the **audience** that will consume this work.  It is **not enough** to show just the code.  It is not appropriate to show long sections of **unexplained printout**, etc.  Be kind to your readers and provide value to them!\n",
    "\n",
    "**ALWAYS follow this pattern** when doing **each portion** of the work.  This allows us to give feedback and assign scores, and to give partial credit.  Make it easy for the reader to understand your work.\n",
    "- Say (briefly) **what** you are trying to do, and **why**.\n",
    "- Do it (code), and comment your code, so others can understand and evaluate it.\n",
    "- Show or describe the **result** clearly (and briefly as needed), and explain the significant **conclusions or insights** derived from the results. \n",
    "\n",
    "**HAVE FUN!**"
   ]
  },
  {
   "cell_type": "markdown",
   "metadata": {},
   "source": [
    "***\n",
    "# Section: Setup\n",
    "- Add any needed imports, helper functions, etc., here.\n",
    "***"
   ]
  },
  {
   "cell_type": "code",
   "execution_count": 1,
   "metadata": {},
   "outputs": [],
   "source": [
    "import numpy as np\n",
    "import pandas as pd\n",
    "\n",
    "#!pip install matplotlib\n",
    "import matplotlib\n",
    "import matplotlib.pyplot as plt\n",
    "%matplotlib inline\n",
    "#matplotlib.use('Qt5Agg')\n",
    "\n",
    "import seaborn as sns\n",
    "import sklearn as skl\n",
    "\n",
    "from mpl_toolkits.mplot3d import Axes3D\n",
    "\n",
    "pd.set_option('display.max_columns', 50) #include to avoid ... in middle of display"
   ]
  },
  {
   "cell_type": "markdown",
   "metadata": {
    "jp-MarkdownHeadingCollapsed": true,
    "tags": []
   },
   "source": [
    "***\n",
    "# Section: 1 - Business Understanding - **SKIP THIS!**\n",
    "- This step is essential (and occasionally ignored…).  It focuses on understanding the business needs and objectives, and defining a data analysis problem that is relevant and useful to the business, so the right solution is built.\n",
    "\n",
    "- Consider the following questions and discuss the possible answers to them below. (You may simply edit the existing cell and insert your answers.)\n",
    "  - It is OK to say that you do not know.  How might you get answers to the questions?\n",
    "  - You may consider some of the questions to be \"not applicable\".  If so, why?\n",
    "***"
   ]
  },
  {
   "cell_type": "markdown",
   "metadata": {},
   "source": [
    "Context\n",
    "- What is the overview, history, big picture?\n",
    "\n",
    "Business Objectives\n",
    "- What is the problem or opportunity to be addressed / solved?\n",
    "- What is its business value?\n",
    "\n",
    "Stakeholders\n",
    "- Who are they?\n",
    "- What are their needs?\n",
    "\n",
    "General Goals\n",
    "- Understand the past/current state (descriptive)?\n",
    "- Predict the future (predictive)?\n",
    "- Mine for unknown patterns / insights?\n",
    "- Answer questions? What are they?\n",
    "- Support decisions? What are they?\n",
    "\n",
    "Scope\n",
    "- What is the specific scope of the project?\n",
    "- What, specifically, is NOT in scope? (What are you not doing that someone might think you are doing?)\n",
    "- Is the scope flexible? In what way?\n",
    "\n",
    "Deliverables\n",
    "- Report?\n",
    "- Reusable code?\n",
    "- Presentation?\n",
    "\n",
    "Success Criteria\n",
    "- What, specifically, must be accomplished for this project to be a success?\n",
    "\n",
    "Solution Approach\n",
    "- Is this a “one time” (throw away) solution, or will the solution become part of repeated process that is used and enhanced over time?\n",
    "\n",
    "Quality\n",
    "- What level of Correctness or Confidence is needed?\n",
    "- Is this life-critical or are we looking for ‘directionally correct’ results?\n",
    "\n",
    "Constraints\n",
    "- Are there legal / regulatory implications (privacy, security, liability, HIPAA, FERPA)?\n",
    "- Are there architectural constraints?\n",
    "\n",
    "Time / Cost\n",
    "- What is the deadline or budget?\n",
    "\n",
    "Dependencies\n",
    "- Is this project dependent on any other project or activity?\n",
    "- Is any other project or activity dependent on this project?\n",
    "\n",
    "Resources Needed\n",
    "- Do you potentially need access to specific people, data, etc?\n",
    "\n",
    "Other Considerations\n",
    "- What other considerations, not covered above, might be relevant?"
   ]
  },
  {
   "cell_type": "markdown",
   "metadata": {
    "jp-MarkdownHeadingCollapsed": true,
    "tags": []
   },
   "source": [
    "***\n",
    "# Section: 2 - Data Understanding - **SKIP THIS!** (or revise it based on learnings from the previous assignment)\n",
    "- Perform exploratory data analysis of the dataset by looking at individual attributes and/or combinations of attributes. You should focus on identifying and describing interesting observations and insights that you might uncover from the data.\n",
    "- You should not simply provide the basic EDA information for all attributes in the data. Instead, you should focus on those that are more interesting or important, and provide some discussion of what you observe. Pay particular attention to potentially interesting bivariate (two-variable) relationships, as well as the relationship between each attribute and the class attribute (if this is a classification problem).\n",
    "- This step includes:\n",
    "  - Understanding what data might be available and relevant.\n",
    "  - Acquiring the data.\n",
    "  - Understanding the characteristics of the data (e.g., quality, completeness, currency, consistency,…).\n",
    "  - Understanding how other datasets might enhance or supplement the data (and acquiring that data as well).\n",
    "  - Possibly performing some initial analysis to build confidence that the overall direction is likely to be helpful to the business problem to be solved.\n",
    "\n",
    "**NOTE:** Frequently, a first pass is made through the data to fix or remove \"obvious\" data quality issues (missing values, duplicate records, outliers (some), etc.).  The deeper Data Understanding analysis then is done on the \"cleaned\" data.  This mitigates the issue of bad data skewing the data analysis results.  **You may choose to do this separate first pass. If you do so, clearly document your approach.**\n",
    "***"
   ]
  },
  {
   "cell_type": "markdown",
   "metadata": {},
   "source": [
    "***\n",
    "## Section: 2.1 - Describe the meaning and type of data for each attribute.\n",
    "\n",
    "Identify the type of data for each attribute.\n",
    "  - Categorical: Nominal, Ordinal\n",
    "  - Numerical: Interval, Ratio\n",
    "  - Other: Complex or unstructured data (e.g., text strings, images,...)\n",
    "  \n",
    "NOTES:\n",
    "  - This determines what operations are \"meaningful\" for each attribute.  For example, you can't add two Ordinal attributes.\n",
    "  - You can't always tell the attribute types from the data itself.  For example, an Integer attribute could be Ordinal or Interval.\n",
    "\n",
    "Identify interesting characteristics of the data (e.g., quality, completeness, currency, consistency,…).\n",
    "  - Is this dataset relevant and appropriate for the goals of this project?\n",
    "    - If not, what could you do? (find other data to replace or supplement this dataset, etc.)\n",
    "***"
   ]
  },
  {
   "cell_type": "markdown",
   "metadata": {},
   "source": [
    "### **Examine the meta-data (e.g., from data dictionary) available for the dataset.**\n",
    "- Hint: Look at the information on the source website.  Be careful!  Hand-written metadata is frequently out of date or incorrect."
   ]
  },
  {
   "cell_type": "markdown",
   "metadata": {},
   "source": [
    "**Discussion:**\n",
    "| Attr | Data Type | Meaning |\n",
    "|------|-----------|---------|\n",
    "| age | numerical | age |\n",
    "| job | categorical (nominal) | type of job (admin, unemployed, management, housemaid, entrepreneur, student, blue-collar, self-employed, retired, technician, services)|\n",
    "| marital | categorical (nominal) | marital status (married, divorced, single) |\n",
    "| education | categorical (ordinal) | level of education (unknown, secondary, primary, tertiary) |\n",
    "| default | binary | has credit in default? |\n",
    "| housing | binary | has housing loan? |\n",
    "| loan | binary | has personal loan? |\n",
    "| contact | categorical (nominal) | contact communication type (unknown, telephone, cellular) |\n",
    "| day_of_week| categorical (string) | day of the week (monday, tuesday, wednesday, thursday, friday, saturday, sunday) |\n",
    "| month | categorical (string) | month (january, february, march, etc) |\n",
    "| duration | numerical | last contact duration in seconds |\n",
    "| campaign | numerical  | number of contacts performed during this campaign and for this client including last contact |\n",
    "| pdays | numerical  | number of days that passed by after the client was last contacted from a previous campaign (-1 means client was not previously contacted) |\n",
    "| previous | numerical  | number of contacts performed before this campaign and for this client |\n",
    "| poutcome | categorical (nominal) | outcome of the previous marketing campaign (nonexistent, failure, success) |\n",
    "| emp.var.rate | numerical | employment variation rate (quarterly indicator) |\n",
    "| cons.price.idx | numerical | consumer price index (monthly indicator) |\n",
    "| cons.conv.idx | numerical | consumer confidence index (monthly indicator) |\n",
    "| euribor3m | numerical | the rate of deposits in Euros for a period of 3 months |\n",
    "| nr.employed | numerical | number of employees (quarterly indicator) |\n",
    "| y | binary | has the client subscribed a term deposit? |\n",
    "\n",
    "**Observations:**\n",
    "- most of our attributes inherit categorical data type\n",
    "- the attributes can be divided into 4 types:\n",
    "    - age, job, marital education, default, housing, and loan attributes are personal information of our clients\n",
    "    - contact, month, duration, campaign, pdays, previous, and poutcome are attributes related to the campaign\n",
    "    - emp.var.rate, cons.price.idx, cons.conv.idx, euribor3m, nr.employed attributes can be put under \"other\" type\n",
    "    - y attribute are the output variable\n"
   ]
  },
  {
   "cell_type": "markdown",
   "metadata": {},
   "source": [
    "### **Load the Dataset.**"
   ]
  },
  {
   "cell_type": "code",
   "execution_count": 2,
   "metadata": {
    "tags": []
   },
   "outputs": [],
   "source": [
    "# Note: Edit the path here to match your setup.\n",
    "# If you are using your dataset from the previous assignment, you may load it here.\n",
    "data_df = pd.read_excel('bank-additional-full-TEB1.xlsx', sheet_name='ModifiedData')"
   ]
  },
  {
   "cell_type": "code",
   "execution_count": 3,
   "metadata": {
    "tags": []
   },
   "outputs": [
    {
     "data": {
      "text/html": [
       "<div>\n",
       "<style scoped>\n",
       "    .dataframe tbody tr th:only-of-type {\n",
       "        vertical-align: middle;\n",
       "    }\n",
       "\n",
       "    .dataframe tbody tr th {\n",
       "        vertical-align: top;\n",
       "    }\n",
       "\n",
       "    .dataframe thead th {\n",
       "        text-align: right;\n",
       "    }\n",
       "</style>\n",
       "<table border=\"1\" class=\"dataframe\">\n",
       "  <thead>\n",
       "    <tr style=\"text-align: right;\">\n",
       "      <th></th>\n",
       "      <th>0</th>\n",
       "      <th>1</th>\n",
       "      <th>2</th>\n",
       "      <th>3</th>\n",
       "      <th>4</th>\n",
       "    </tr>\n",
       "  </thead>\n",
       "  <tbody>\n",
       "    <tr>\n",
       "      <th>IDX</th>\n",
       "      <td>1</td>\n",
       "      <td>2</td>\n",
       "      <td>3</td>\n",
       "      <td>4</td>\n",
       "      <td>5</td>\n",
       "    </tr>\n",
       "    <tr>\n",
       "      <th>age</th>\n",
       "      <td>56</td>\n",
       "      <td>57</td>\n",
       "      <td>37</td>\n",
       "      <td>40</td>\n",
       "      <td>56</td>\n",
       "    </tr>\n",
       "    <tr>\n",
       "      <th>job</th>\n",
       "      <td>housemaid</td>\n",
       "      <td>services</td>\n",
       "      <td>services</td>\n",
       "      <td>admin.</td>\n",
       "      <td>services</td>\n",
       "    </tr>\n",
       "    <tr>\n",
       "      <th>marital</th>\n",
       "      <td>married</td>\n",
       "      <td>married</td>\n",
       "      <td>married</td>\n",
       "      <td>married</td>\n",
       "      <td>married</td>\n",
       "    </tr>\n",
       "    <tr>\n",
       "      <th>education</th>\n",
       "      <td>basic.4y</td>\n",
       "      <td>high.school</td>\n",
       "      <td>high.school</td>\n",
       "      <td>basic.6y</td>\n",
       "      <td>high.school</td>\n",
       "    </tr>\n",
       "    <tr>\n",
       "      <th>default</th>\n",
       "      <td>no</td>\n",
       "      <td>unknown</td>\n",
       "      <td>no</td>\n",
       "      <td>no</td>\n",
       "      <td>no</td>\n",
       "    </tr>\n",
       "    <tr>\n",
       "      <th>housing</th>\n",
       "      <td>no</td>\n",
       "      <td>no</td>\n",
       "      <td>yes</td>\n",
       "      <td>no</td>\n",
       "      <td>no</td>\n",
       "    </tr>\n",
       "    <tr>\n",
       "      <th>loan</th>\n",
       "      <td>no</td>\n",
       "      <td>no</td>\n",
       "      <td>no</td>\n",
       "      <td>no</td>\n",
       "      <td>yes</td>\n",
       "    </tr>\n",
       "    <tr>\n",
       "      <th>contact</th>\n",
       "      <td>telephone</td>\n",
       "      <td>telephone</td>\n",
       "      <td>telephone</td>\n",
       "      <td>telephone</td>\n",
       "      <td>telephone</td>\n",
       "    </tr>\n",
       "    <tr>\n",
       "      <th>month</th>\n",
       "      <td>may</td>\n",
       "      <td>may</td>\n",
       "      <td>may</td>\n",
       "      <td>may</td>\n",
       "      <td>may</td>\n",
       "    </tr>\n",
       "    <tr>\n",
       "      <th>day_of_week</th>\n",
       "      <td>mon</td>\n",
       "      <td>mon</td>\n",
       "      <td>mon</td>\n",
       "      <td>mon</td>\n",
       "      <td>mon</td>\n",
       "    </tr>\n",
       "    <tr>\n",
       "      <th>duration</th>\n",
       "      <td>261</td>\n",
       "      <td>149</td>\n",
       "      <td>226</td>\n",
       "      <td>151</td>\n",
       "      <td>307</td>\n",
       "    </tr>\n",
       "    <tr>\n",
       "      <th>campaign</th>\n",
       "      <td>1</td>\n",
       "      <td>1</td>\n",
       "      <td>1</td>\n",
       "      <td>1</td>\n",
       "      <td>1</td>\n",
       "    </tr>\n",
       "    <tr>\n",
       "      <th>pdays</th>\n",
       "      <td>999</td>\n",
       "      <td>999</td>\n",
       "      <td>999</td>\n",
       "      <td>999</td>\n",
       "      <td>999</td>\n",
       "    </tr>\n",
       "    <tr>\n",
       "      <th>previous</th>\n",
       "      <td>0</td>\n",
       "      <td>0</td>\n",
       "      <td>0</td>\n",
       "      <td>0</td>\n",
       "      <td>0</td>\n",
       "    </tr>\n",
       "    <tr>\n",
       "      <th>poutcome</th>\n",
       "      <td>nonexistent</td>\n",
       "      <td>nonexistent</td>\n",
       "      <td>nonexistent</td>\n",
       "      <td>nonexistent</td>\n",
       "      <td>nonexistent</td>\n",
       "    </tr>\n",
       "    <tr>\n",
       "      <th>emp.var.rate</th>\n",
       "      <td>1.1</td>\n",
       "      <td>1.1</td>\n",
       "      <td>1.1</td>\n",
       "      <td>1.1</td>\n",
       "      <td>1.1</td>\n",
       "    </tr>\n",
       "    <tr>\n",
       "      <th>cons.price.idx</th>\n",
       "      <td>93.994</td>\n",
       "      <td>93.994</td>\n",
       "      <td>93.994</td>\n",
       "      <td>93.994</td>\n",
       "      <td>93.994</td>\n",
       "    </tr>\n",
       "    <tr>\n",
       "      <th>cons.conf.idx</th>\n",
       "      <td>-36.4</td>\n",
       "      <td>-36.4</td>\n",
       "      <td>-36.4</td>\n",
       "      <td>-36.4</td>\n",
       "      <td>-36.4</td>\n",
       "    </tr>\n",
       "    <tr>\n",
       "      <th>euribor3m</th>\n",
       "      <td>4.857</td>\n",
       "      <td>4.857</td>\n",
       "      <td>4.857</td>\n",
       "      <td>4.857</td>\n",
       "      <td>4.857</td>\n",
       "    </tr>\n",
       "    <tr>\n",
       "      <th>nr.employed</th>\n",
       "      <td>5191.0</td>\n",
       "      <td>5191.0</td>\n",
       "      <td>5191.0</td>\n",
       "      <td>5191.0</td>\n",
       "      <td>5191.0</td>\n",
       "    </tr>\n",
       "    <tr>\n",
       "      <th>y</th>\n",
       "      <td>no</td>\n",
       "      <td>no</td>\n",
       "      <td>no</td>\n",
       "      <td>no</td>\n",
       "      <td>no</td>\n",
       "    </tr>\n",
       "  </tbody>\n",
       "</table>\n",
       "</div>"
      ],
      "text/plain": [
       "                          0            1            2            3  \\\n",
       "IDX                       1            2            3            4   \n",
       "age                      56           57           37           40   \n",
       "job               housemaid     services     services       admin.   \n",
       "marital             married      married      married      married   \n",
       "education          basic.4y  high.school  high.school     basic.6y   \n",
       "default                  no      unknown           no           no   \n",
       "housing                  no           no          yes           no   \n",
       "loan                     no           no           no           no   \n",
       "contact           telephone    telephone    telephone    telephone   \n",
       "month                   may          may          may          may   \n",
       "day_of_week             mon          mon          mon          mon   \n",
       "duration                261          149          226          151   \n",
       "campaign                  1            1            1            1   \n",
       "pdays                   999          999          999          999   \n",
       "previous                  0            0            0            0   \n",
       "poutcome        nonexistent  nonexistent  nonexistent  nonexistent   \n",
       "emp.var.rate            1.1          1.1          1.1          1.1   \n",
       "cons.price.idx       93.994       93.994       93.994       93.994   \n",
       "cons.conf.idx         -36.4        -36.4        -36.4        -36.4   \n",
       "euribor3m             4.857        4.857        4.857        4.857   \n",
       "nr.employed          5191.0       5191.0       5191.0       5191.0   \n",
       "y                        no           no           no           no   \n",
       "\n",
       "                          4  \n",
       "IDX                       5  \n",
       "age                      56  \n",
       "job                services  \n",
       "marital             married  \n",
       "education       high.school  \n",
       "default                  no  \n",
       "housing                  no  \n",
       "loan                    yes  \n",
       "contact           telephone  \n",
       "month                   may  \n",
       "day_of_week             mon  \n",
       "duration                307  \n",
       "campaign                  1  \n",
       "pdays                   999  \n",
       "previous                  0  \n",
       "poutcome        nonexistent  \n",
       "emp.var.rate            1.1  \n",
       "cons.price.idx       93.994  \n",
       "cons.conf.idx         -36.4  \n",
       "euribor3m             4.857  \n",
       "nr.employed          5191.0  \n",
       "y                        no  "
      ]
     },
     "execution_count": 3,
     "metadata": {},
     "output_type": "execute_result"
    }
   ],
   "source": [
    "data_df.head().T"
   ]
  },
  {
   "cell_type": "markdown",
   "metadata": {},
   "source": [
    "**Observation:**\n",
    "- the first 5 rows shows that all 5 clients have similar value for marital status, contact, month, day_of_week, campaign, pdays, previous, poutcome, emp.var.rate, cons.price.idx, cons.conf.idx, euribor3m, nr.employed, and y attributes\n",
    "- 3 of the clients are working in the services industry\n",
    "- all clients are middle-aged"
   ]
  },
  {
   "cell_type": "code",
   "execution_count": 4,
   "metadata": {
    "tags": []
   },
   "outputs": [
    {
     "name": "stdout",
     "output_type": "stream",
     "text": [
      "<class 'pandas.core.frame.DataFrame'>\n",
      "RangeIndex: 41188 entries, 0 to 41187\n",
      "Data columns (total 22 columns):\n",
      " #   Column          Non-Null Count  Dtype  \n",
      "---  ------          --------------  -----  \n",
      " 0   IDX             41188 non-null  int64  \n",
      " 1   age             41188 non-null  int64  \n",
      " 2   job             41188 non-null  object \n",
      " 3   marital         41187 non-null  object \n",
      " 4   education       41188 non-null  object \n",
      " 5   default         41187 non-null  object \n",
      " 6   housing         41188 non-null  object \n",
      " 7   loan            41188 non-null  object \n",
      " 8   contact         41188 non-null  object \n",
      " 9   month           41187 non-null  object \n",
      " 10  day_of_week     41188 non-null  object \n",
      " 11  duration        41188 non-null  int64  \n",
      " 12  campaign        41188 non-null  int64  \n",
      " 13  pdays           41188 non-null  int64  \n",
      " 14  previous        41188 non-null  int64  \n",
      " 15  poutcome        41187 non-null  object \n",
      " 16  emp.var.rate    41188 non-null  float64\n",
      " 17  cons.price.idx  41188 non-null  float64\n",
      " 18  cons.conf.idx   41188 non-null  float64\n",
      " 19  euribor3m       41188 non-null  float64\n",
      " 20  nr.employed     41188 non-null  float64\n",
      " 21  y               41187 non-null  object \n",
      "dtypes: float64(5), int64(6), object(11)\n",
      "memory usage: 6.9+ MB\n"
     ]
    }
   ],
   "source": [
    "data_df.info()"
   ]
  },
  {
   "cell_type": "markdown",
   "metadata": {},
   "source": [
    "**Observation:**\n",
    "- total counts for marital, default, month, poutcome, and y attributes are less than the others\n",
    "- all attributes are non-null"
   ]
  },
  {
   "cell_type": "markdown",
   "metadata": {
    "tags": []
   },
   "source": [
    "***\n",
    "## Section: 2.2 - Provide basic statistics for the attributes.\n",
    "- For example: counts, percentiles, mean, median, standard deviation. The statistics should be relevant for the type of attribute.\n",
    "***"
   ]
  },
  {
   "cell_type": "code",
   "execution_count": 5,
   "metadata": {},
   "outputs": [
    {
     "data": {
      "text/html": [
       "<div>\n",
       "<style scoped>\n",
       "    .dataframe tbody tr th:only-of-type {\n",
       "        vertical-align: middle;\n",
       "    }\n",
       "\n",
       "    .dataframe tbody tr th {\n",
       "        vertical-align: top;\n",
       "    }\n",
       "\n",
       "    .dataframe thead th {\n",
       "        text-align: right;\n",
       "    }\n",
       "</style>\n",
       "<table border=\"1\" class=\"dataframe\">\n",
       "  <thead>\n",
       "    <tr style=\"text-align: right;\">\n",
       "      <th></th>\n",
       "      <th>IDX</th>\n",
       "      <th>age</th>\n",
       "      <th>duration</th>\n",
       "      <th>campaign</th>\n",
       "      <th>pdays</th>\n",
       "      <th>previous</th>\n",
       "      <th>emp.var.rate</th>\n",
       "      <th>cons.price.idx</th>\n",
       "      <th>cons.conf.idx</th>\n",
       "      <th>euribor3m</th>\n",
       "      <th>nr.employed</th>\n",
       "    </tr>\n",
       "  </thead>\n",
       "  <tbody>\n",
       "    <tr>\n",
       "      <th>count</th>\n",
       "      <td>41188.00000</td>\n",
       "      <td>41188.000000</td>\n",
       "      <td>41188.000000</td>\n",
       "      <td>41188.000000</td>\n",
       "      <td>41188.000000</td>\n",
       "      <td>41188.000000</td>\n",
       "      <td>41188.000000</td>\n",
       "      <td>41188.000000</td>\n",
       "      <td>41188.000000</td>\n",
       "      <td>41188.000000</td>\n",
       "      <td>41188.000000</td>\n",
       "    </tr>\n",
       "    <tr>\n",
       "      <th>mean</th>\n",
       "      <td>20594.50000</td>\n",
       "      <td>40.030761</td>\n",
       "      <td>258.285010</td>\n",
       "      <td>2.567593</td>\n",
       "      <td>962.475454</td>\n",
       "      <td>0.172963</td>\n",
       "      <td>0.081886</td>\n",
       "      <td>93.575664</td>\n",
       "      <td>-40.502600</td>\n",
       "      <td>3.621291</td>\n",
       "      <td>5167.035911</td>\n",
       "    </tr>\n",
       "    <tr>\n",
       "      <th>std</th>\n",
       "      <td>11890.09578</td>\n",
       "      <td>10.512520</td>\n",
       "      <td>259.279249</td>\n",
       "      <td>2.770014</td>\n",
       "      <td>186.910907</td>\n",
       "      <td>0.494901</td>\n",
       "      <td>1.570960</td>\n",
       "      <td>0.578840</td>\n",
       "      <td>4.628198</td>\n",
       "      <td>1.734447</td>\n",
       "      <td>72.251528</td>\n",
       "    </tr>\n",
       "    <tr>\n",
       "      <th>min</th>\n",
       "      <td>1.00000</td>\n",
       "      <td>5.000000</td>\n",
       "      <td>0.000000</td>\n",
       "      <td>1.000000</td>\n",
       "      <td>0.000000</td>\n",
       "      <td>0.000000</td>\n",
       "      <td>-3.400000</td>\n",
       "      <td>92.201000</td>\n",
       "      <td>-50.800000</td>\n",
       "      <td>0.634000</td>\n",
       "      <td>4963.600000</td>\n",
       "    </tr>\n",
       "    <tr>\n",
       "      <th>25%</th>\n",
       "      <td>10297.75000</td>\n",
       "      <td>32.000000</td>\n",
       "      <td>102.000000</td>\n",
       "      <td>1.000000</td>\n",
       "      <td>999.000000</td>\n",
       "      <td>0.000000</td>\n",
       "      <td>-1.800000</td>\n",
       "      <td>93.075000</td>\n",
       "      <td>-42.700000</td>\n",
       "      <td>1.344000</td>\n",
       "      <td>5099.100000</td>\n",
       "    </tr>\n",
       "    <tr>\n",
       "      <th>50%</th>\n",
       "      <td>20594.50000</td>\n",
       "      <td>38.000000</td>\n",
       "      <td>180.000000</td>\n",
       "      <td>2.000000</td>\n",
       "      <td>999.000000</td>\n",
       "      <td>0.000000</td>\n",
       "      <td>1.100000</td>\n",
       "      <td>93.749000</td>\n",
       "      <td>-41.800000</td>\n",
       "      <td>4.857000</td>\n",
       "      <td>5191.000000</td>\n",
       "    </tr>\n",
       "    <tr>\n",
       "      <th>75%</th>\n",
       "      <td>30891.25000</td>\n",
       "      <td>47.000000</td>\n",
       "      <td>319.000000</td>\n",
       "      <td>3.000000</td>\n",
       "      <td>999.000000</td>\n",
       "      <td>0.000000</td>\n",
       "      <td>1.400000</td>\n",
       "      <td>93.994000</td>\n",
       "      <td>-36.400000</td>\n",
       "      <td>4.961000</td>\n",
       "      <td>5228.100000</td>\n",
       "    </tr>\n",
       "    <tr>\n",
       "      <th>max</th>\n",
       "      <td>41188.00000</td>\n",
       "      <td>311.000000</td>\n",
       "      <td>4918.000000</td>\n",
       "      <td>56.000000</td>\n",
       "      <td>999.000000</td>\n",
       "      <td>7.000000</td>\n",
       "      <td>1.400000</td>\n",
       "      <td>94.767000</td>\n",
       "      <td>-26.900000</td>\n",
       "      <td>5.045000</td>\n",
       "      <td>5228.100000</td>\n",
       "    </tr>\n",
       "  </tbody>\n",
       "</table>\n",
       "</div>"
      ],
      "text/plain": [
       "               IDX           age      duration      campaign         pdays  \\\n",
       "count  41188.00000  41188.000000  41188.000000  41188.000000  41188.000000   \n",
       "mean   20594.50000     40.030761    258.285010      2.567593    962.475454   \n",
       "std    11890.09578     10.512520    259.279249      2.770014    186.910907   \n",
       "min        1.00000      5.000000      0.000000      1.000000      0.000000   \n",
       "25%    10297.75000     32.000000    102.000000      1.000000    999.000000   \n",
       "50%    20594.50000     38.000000    180.000000      2.000000    999.000000   \n",
       "75%    30891.25000     47.000000    319.000000      3.000000    999.000000   \n",
       "max    41188.00000    311.000000   4918.000000     56.000000    999.000000   \n",
       "\n",
       "           previous  emp.var.rate  cons.price.idx  cons.conf.idx  \\\n",
       "count  41188.000000  41188.000000    41188.000000   41188.000000   \n",
       "mean       0.172963      0.081886       93.575664     -40.502600   \n",
       "std        0.494901      1.570960        0.578840       4.628198   \n",
       "min        0.000000     -3.400000       92.201000     -50.800000   \n",
       "25%        0.000000     -1.800000       93.075000     -42.700000   \n",
       "50%        0.000000      1.100000       93.749000     -41.800000   \n",
       "75%        0.000000      1.400000       93.994000     -36.400000   \n",
       "max        7.000000      1.400000       94.767000     -26.900000   \n",
       "\n",
       "          euribor3m   nr.employed  \n",
       "count  41188.000000  41188.000000  \n",
       "mean       3.621291   5167.035911  \n",
       "std        1.734447     72.251528  \n",
       "min        0.634000   4963.600000  \n",
       "25%        1.344000   5099.100000  \n",
       "50%        4.857000   5191.000000  \n",
       "75%        4.961000   5228.100000  \n",
       "max        5.045000   5228.100000  "
      ]
     },
     "execution_count": 5,
     "metadata": {},
     "output_type": "execute_result"
    }
   ],
   "source": [
    "data_df.describe()"
   ]
  },
  {
   "cell_type": "markdown",
   "metadata": {
    "tags": []
   },
   "source": [
    "**Discussion:**\n",
    "\n",
    "To get the basic statistics for the attributes, I used the describe method. The output only contains attributes with numerical data type.\n",
    "From the basic statistics table above, there are a few things that is worth to note.\n",
    "1. In age attribute, the max value of 311 is too large. That is a clear error because no one could possibly be at the age of 311. The min value of 5 is also too small.\n",
    "2. In previous attribute, the value for 25th, 50th and 75th percentile are 0. This shows that majority of the data for previous are 0 or value close to 0.\n",
    "3. The value 999 in pdays might be an error or it could possibly represent that the client was not previously contacted. In the UCI dataset, it mentioned that the value -1 represent that the client was not previously contacted, however there isn't any -1 value found in previous data and the value 999 is oddly large.\n"
   ]
  },
  {
   "cell_type": "markdown",
   "metadata": {},
   "source": [
    "***\n",
    "## Section: 2.3 - Visualize / analyze the most important or interesting attributes using appropriate techniques.\n",
    "- For each visualization, provide an interpretation explaining why it is appropriate or interesting. What does each visualization tell us?\n",
    "***"
   ]
  },
  {
   "cell_type": "code",
   "execution_count": 6,
   "metadata": {},
   "outputs": [
    {
     "name": "stdout",
     "output_type": "stream",
     "text": [
      "Total records: 41188 - Value count per age attribute:\n",
      "\n",
      "age\n",
      "31     1946\n",
      "32     1846\n",
      "33     1833\n",
      "36     1780\n",
      "35     1759\n",
      "       ... \n",
      "311       1\n",
      "94        1\n",
      "112       1\n",
      "95        1\n",
      "5         1\n",
      "Name: count, Length: 81, dtype: int64\n",
      "\n",
      "\n",
      "job\n",
      "admin.           10422\n",
      "blue-collar       9254\n",
      "technician        6743\n",
      "services          3969\n",
      "management        2924\n",
      "retired           1720\n",
      "entrepreneur      1456\n",
      "self-employed     1421\n",
      "housemaid         1060\n",
      "unemployed        1014\n",
      "student            875\n",
      "unknown            330\n",
      "Name: count, dtype: int64\n",
      "\n",
      "\n",
      "default\n",
      "no         32587\n",
      "unknown     8597\n",
      "yes            3\n",
      "NaN            1\n",
      "Name: count, dtype: int64\n",
      "\n",
      "\n",
      "housing\n",
      "yes        21576\n",
      "no         18622\n",
      "unknown      990\n",
      "Name: count, dtype: int64\n",
      "\n",
      "\n",
      "loan\n",
      "no         33950\n",
      "yes         6248\n",
      "unknown      990\n",
      "Name: count, dtype: int64\n",
      "\n",
      "\n"
     ]
    }
   ],
   "source": [
    "categorical_attribute_names = ['age', 'job', 'default', 'housing', 'loan']\n",
    "print(\"Total records:\", data_df.shape[0], \"- Value count per age attribute:\\n\")\n",
    "for att in categorical_attribute_names:\n",
    "    print(data_df[att].value_counts(normalize=False, sort=True, ascending=False, bins=None, dropna=False))\n",
    "    print(\"\\n\")"
   ]
  },
  {
   "cell_type": "markdown",
   "metadata": {
    "tags": []
   },
   "source": [
    "**Discussion:**\n",
    "\n",
    "1. For the age attribute, the value 5 and 311 might be a typo because nobody lives till 311 and a 5 years old shouldn't be in the list because they are still too young to participate. \n",
    "2. For the job attribute, the data shows nothing out of the ordinary but it tells us that people working corporate or full time jobs have higher frequency.\n",
    "3. The NaN values in default attribute will be discussed in the next section.\n",
    "4. For housing attribute, the data frequency shows that the number of people who has housing loans are almost similar to those who doesn't.\n",
    "5. For loan attribute, the data frequency shows that the number of people who doesn't have personal loan are significantly higher compare to those that does have personal loan. \n",
    "6. In job, default, housing, and loan attribute, it it is worth to note that there a lot of unknown data and having lots of unknowns affect the quality of the data in terms of completenes."
   ]
  },
  {
   "cell_type": "markdown",
   "metadata": {},
   "source": [
    "***\n",
    "## Section: 2.4 - Verify data quality: explain any missing values, duplicate data, or outliers.\n",
    "- What, if anything, do you need to do about these? Be specific.\n",
    "***"
   ]
  },
  {
   "cell_type": "markdown",
   "metadata": {},
   "source": [
    "### MISSING VALUES"
   ]
  },
  {
   "cell_type": "code",
   "execution_count": 7,
   "metadata": {
    "tags": []
   },
   "outputs": [
    {
     "name": "stdout",
     "output_type": "stream",
     "text": [
      "Total records: 41188 - Number of Records with NA 5 - Number of NA values: 5\n",
      "NA Values per Attribute:\n",
      "marital 1\n",
      "default 1\n",
      "month 1\n",
      "poutcome 1\n",
      "y 1\n"
     ]
    }
   ],
   "source": [
    "na_df = data_df[data_df.isna().any(axis=1)]\n",
    "num_records_with_na = na_df.shape[0]\n",
    "num_na_values = na_df.isna().sum().sum()\n",
    "selected_attribute_names = ['age', 'job', 'marital', 'education', 'default', 'housing', 'loan', 'contact', 'month', 'day_of_week', 'duration', 'campaign', 'pdays', 'previous', 'poutcome', 'y']\n",
    "\n",
    "print(\"Total records:\", data_df.shape[0], \"- Number of Records with NA\", num_records_with_na, \"- Number of NA values:\", num_na_values)\n",
    "\n",
    "na_df.head(10);\n",
    "\n",
    "print(\"NA Values per Attribute:\")\n",
    "for att in selected_attribute_names:\n",
    "    num_na = na_df[att].isna().sum()\n",
    "    if num_na > 0:\n",
    "        print(att, na_df[att].isna().sum())"
   ]
  },
  {
   "cell_type": "markdown",
   "metadata": {
    "tags": []
   },
   "source": [
    "**Discussion:**\n",
    "\n",
    "In order to find the missing data, I scan through all the selected attributes and check if there are any empty cell. The results shown above shows that we have 5 attributes that are missing 1 value respectively. The attributes are marital, default, month, poutcome, and y. Since these are categorical and binary attributes, we can't simply fill in the missing data unlike numerical attributes where we are able to derived the data from calculation for some cases."
   ]
  },
  {
   "cell_type": "markdown",
   "metadata": {},
   "source": [
    "### DUPLICATES"
   ]
  },
  {
   "cell_type": "code",
   "execution_count": 8,
   "metadata": {},
   "outputs": [
    {
     "name": "stdout",
     "output_type": "stream",
     "text": [
      "Number of duplicate records across all attributes: 0\n"
     ]
    },
    {
     "data": {
      "text/html": [
       "<div>\n",
       "<style scoped>\n",
       "    .dataframe tbody tr th:only-of-type {\n",
       "        vertical-align: middle;\n",
       "    }\n",
       "\n",
       "    .dataframe tbody tr th {\n",
       "        vertical-align: top;\n",
       "    }\n",
       "\n",
       "    .dataframe thead th {\n",
       "        text-align: right;\n",
       "    }\n",
       "</style>\n",
       "<table border=\"1\" class=\"dataframe\">\n",
       "  <thead>\n",
       "    <tr style=\"text-align: right;\">\n",
       "      <th></th>\n",
       "      <th>IDX</th>\n",
       "      <th>age</th>\n",
       "      <th>job</th>\n",
       "      <th>marital</th>\n",
       "      <th>education</th>\n",
       "      <th>default</th>\n",
       "      <th>housing</th>\n",
       "      <th>loan</th>\n",
       "      <th>contact</th>\n",
       "      <th>month</th>\n",
       "      <th>day_of_week</th>\n",
       "      <th>duration</th>\n",
       "      <th>campaign</th>\n",
       "      <th>pdays</th>\n",
       "      <th>previous</th>\n",
       "      <th>poutcome</th>\n",
       "      <th>emp.var.rate</th>\n",
       "      <th>cons.price.idx</th>\n",
       "      <th>cons.conf.idx</th>\n",
       "      <th>euribor3m</th>\n",
       "      <th>nr.employed</th>\n",
       "      <th>y</th>\n",
       "    </tr>\n",
       "  </thead>\n",
       "  <tbody>\n",
       "  </tbody>\n",
       "</table>\n",
       "</div>"
      ],
      "text/plain": [
       "Empty DataFrame\n",
       "Columns: [IDX, age, job, marital, education, default, housing, loan, contact, month, day_of_week, duration, campaign, pdays, previous, poutcome, emp.var.rate, cons.price.idx, cons.conf.idx, euribor3m, nr.employed, y]\n",
       "Index: []"
      ]
     },
     "execution_count": 8,
     "metadata": {},
     "output_type": "execute_result"
    }
   ],
   "source": [
    "dup_df = data_df[data_df.duplicated()]\n",
    "num_dup_records = dup_df.shape[0]\n",
    "\n",
    "print(\"Number of duplicate records across all attributes:\", num_dup_records)\n",
    "dup_df.head(10)"
   ]
  },
  {
   "cell_type": "markdown",
   "metadata": {},
   "source": [
    "**Discussion**\n",
    "\n",
    "The result shows that there aren't any duplicate data in our dataset."
   ]
  },
  {
   "cell_type": "markdown",
   "metadata": {},
   "source": [
    "### OUTLIERS"
   ]
  },
  {
   "cell_type": "code",
   "execution_count": 9,
   "metadata": {},
   "outputs": [
    {
     "data": {
      "image/png": "[encoded data removed]",
      "text/plain": [
       "<Figure size 500x300 with 1 Axes>"
      ]
     },
     "metadata": {},
     "output_type": "display_data"
    }
   ],
   "source": [
    "fig = plt.figure(figsize=(5,3))\n",
    "plt.boxplot(data_df.age)\n",
    "plt.show()"
   ]
  },
  {
   "cell_type": "markdown",
   "metadata": {},
   "source": [
    "**AGE**  \n",
    "Age attribute has a lot of outliers too but most of them are not too far away from the normal range. Age 311 and 5 are not possible and clearly an outlier. However, the outlier with values above 100 is questionable to me but it is still possible for us to consider because there are people who lives beyong the age 100."
   ]
  },
  {
   "cell_type": "code",
   "execution_count": 10,
   "metadata": {},
   "outputs": [
    {
     "data": {
      "image/png": "[encoded data removed]",
      "text/plain": [
       "<Figure size 500x300 with 1 Axes>"
      ]
     },
     "metadata": {},
     "output_type": "display_data"
    }
   ],
   "source": [
    "fig = plt.figure(figsize=(5,3))\n",
    "plt.boxplot(data_df.duration)\n",
    "plt.show()"
   ]
  },
  {
   "cell_type": "markdown",
   "metadata": {},
   "source": [
    "**DURATION**  \n",
    "Duration attribute has a lot of outliers that is out of the normal range. The most obvious outliers are values above 4000."
   ]
  },
  {
   "cell_type": "code",
   "execution_count": 11,
   "metadata": {},
   "outputs": [
    {
     "data": {
      "image/png": "[encoded data removed]",
      "text/plain": [
       "<Figure size 500x300 with 1 Axes>"
      ]
     },
     "metadata": {},
     "output_type": "display_data"
    }
   ],
   "source": [
    "fig = plt.figure(figsize=(5,3))\n",
    "plt.boxplot(data_df.campaign)\n",
    "plt.show()"
   ]
  },
  {
   "cell_type": "markdown",
   "metadata": {},
   "source": [
    "**CAMPAIGN**  \n",
    "Campaign attribute also has many outliers. Since campaign attributes means the number of contacts performed during the campaign, the outliers might show that these clients have shown more interest, hence more number of contacts. I would assume the one outlier above 50 is a typo, but since it is not too much far away from the other outliers, I would not remove it."
   ]
  },
  {
   "cell_type": "markdown",
   "metadata": {},
   "source": [
    "***\n",
    "## Section: 2.5 - Explore the relationships among the attributes.\n",
    "- You may include or exclude the class attribute as appropriate.\n",
    "- Use scatter plots, correlation matrices, cross-tabulations, group-wise averages, or other appropriate techniques. Explain and interpret any interesting relationships.\n",
    "- There are three general cases for 2-attribute relationships:\n",
    "  - Categorical vs Categorical\n",
    "  - Categorical vs Numerical\n",
    "  - Numerical vs Numerical\n",
    "- See these references for additional guidance:\n",
    "  - https://www.scribbr.com/statistics/statistical-tests/\n",
    "  - https://researcher.life/blog/article/independent-vs-dependent-variables-definition-examples/\n",
    "  - https://medium.com/@outside2SDs/an-overview-of-correlation-measures-between-categorical-and-continuous-variables-4c7f85610365\n",
    "***"
   ]
  },
  {
   "cell_type": "code",
   "execution_count": 12,
   "metadata": {
    "tags": []
   },
   "outputs": [
    {
     "data": {
      "image/png": "[encoded data removed]",
      "text/plain": [
       "<Figure size 640x480 with 1 Axes>"
      ]
     },
     "metadata": {},
     "output_type": "display_data"
    }
   ],
   "source": [
    "plot = data_df.plot.scatter(x=\"age\",y=\"duration\")"
   ]
  },
  {
   "cell_type": "markdown",
   "metadata": {
    "tags": []
   },
   "source": [
    "**Observation:**  \n",
    "Firstly, we can clearly observed that as age increases, the number of duration in seconds decreases. It is also mostly concentrated within the range of 0-2000 for duration and within the range of 20-80 (rough estimation) for age. What I can deduce from this information is that a call generally would last at most 2000 seconds if you're are within the age of 20-60, and at most 1000 seconds if you're are 60 years old and above. Other than that, looking at the less concentrated area, which is when the duration would go on after 2000 seconds, it lies within the age range of 25-55. So, I would assume that clients within the age of 25-55 are mostly interested and are engaging during the call."
   ]
  },
  {
   "cell_type": "code",
   "execution_count": 13,
   "metadata": {},
   "outputs": [
    {
     "data": {
      "image/png": "[encoded data removed]",
      "text/plain": [
       "<Figure size 640x480 with 1 Axes>"
      ]
     },
     "metadata": {},
     "output_type": "display_data"
    }
   ],
   "source": [
    "plot = data_df.plot.scatter(x=\"previous\",y=\"duration\")"
   ]
  },
  {
   "cell_type": "markdown",
   "metadata": {},
   "source": [
    "**Observation**  \n",
    "The reason why I chose to look at the relationship between previous and duration is because I want to check if the number of times the client was contacted before the campaign affects the duration of the last contact during the campaign. The scatter plot is showing me that previous contacts do affect the last contact duration. As we can clearly see, as the number of previous contact increases, the number of duration decreases. What I can deduce from this information is client that have never been contacted before the campaign, are more interested in the call because they are curious what the campaign is about. Meanwhile, client that have been contacted several times before the campaign, are less interested because they already know about the campaign."
   ]
  },
  {
   "cell_type": "markdown",
   "metadata": {},
   "source": [
    "***\n",
    "## Section: 2.6 - Identify and explain any interesting relationships between the class attribute and the other attributes.\n",
    "- You may refer to earlier analyses / visualizations (if you included the class attribute above) or create new ones.\n",
    "***"
   ]
  },
  {
   "cell_type": "code",
   "execution_count": 14,
   "metadata": {},
   "outputs": [
    {
     "data": {
      "image/png": "[encoded data removed]",
      "text/plain": [
       "<Figure size 1000x600 with 2 Axes>"
      ]
     },
     "metadata": {},
     "output_type": "display_data"
    }
   ],
   "source": [
    "data_df['y_numeric'] = data_df['y'].map({'yes': 1, 'no': 0})\n",
    "\n",
    "corr_matrix = data_df[['emp.var.rate', 'cons.price.idx', 'cons.conf.idx', 'euribor3m', 'nr.employed', 'y_numeric']].corr()\n",
    "\n",
    "plt.figure(figsize=(10, 6))\n",
    "sns.heatmap(corr_matrix, annot=True, cmap='coolwarm', vmin=-1, vmax=1, linewidths=0.5)\n",
    "plt.title('Correlation Matrix')\n",
    "plt.show()"
   ]
  },
  {
   "cell_type": "markdown",
   "metadata": {
    "tags": []
   },
   "source": [
    "I chose to analyse the relationship between 'y' and the attributes that I categorized under 'Other' in Section 2.1 because I'm curious to see if there is any correlation between y and these attributes. This would help me understand if any of these 'Other' attributes would affect the result of 'y'.  \n",
    "Before creating the correlation matrix, I convert 'y' variable to numeric by representing yes with value 1, and no with value 0. Then, I grouped the attributes that I want to include to create the correlation matrix. I used heatmap to better visualize the correlation.  \n",
    "Based on the correlation matrix heatmap, emp.var.rate, cons.price.idx, euribor3m, and nr.employed have negative correlation with the class attribute 'y'. Based on my understanding on correlation matrix, negative correlation imply an inverse relationship. So when 'y' increase, the other variable decrease. Other than that, correlation matrix between cons.conf.idx and y is 0.055, which is close to 0. So, I will assume that cons.conf.idx has no correlation to y at all."
   ]
  },
  {
   "cell_type": "markdown",
   "metadata": {
    "jp-MarkdownHeadingCollapsed": true,
    "tags": []
   },
   "source": [
    "***\n",
    "# Section: 3 - Data Preparation - **SKIP THIS!** (or revise it based on learnings from the previous assignment)\n",
    "In this step, the “final” target dataset is constructed (although nothing is ever final…), based on the insights gleaned in the Data Understanding step.\n",
    "This may include:\n",
    "- Normalizing / standardizing the data.\n",
    "- Handling missing and erroneous data.\n",
    "- Transforming or eliminating attributes.\n",
    "- “Blending” data from multiple sources (with attention to consistency of the various sources).\n",
    "- Deploying the data to storage in suitable formats, data models / structures.\n",
    "\n",
    "**NOTE:** In each of these sections, it is OK to decide to **not** make changes to the dataset, but you **must** explain **why** you made the choice.  Recall that the purpose of this step is to produce a clean dataset that is suitable for the intended purposes.  So, for example, you might choose to not remove any attributes, but if you have 100 apparently irrelevant attributes, explain why are you keeping them - there may be a good reason.\n",
    "***"
   ]
  },
  {
   "cell_type": "markdown",
   "metadata": {
    "tags": []
   },
   "source": [
    "***\n",
    "## Section: 3.1 - Clean the Data\n",
    "- Implement any data cleaning steps previously identified.  Please justify.\n",
    "- Show the effects of that cleaning through the use of appropriate statistics and/or visualizations.\n",
    "***"
   ]
  },
  {
   "cell_type": "code",
   "execution_count": 15,
   "metadata": {},
   "outputs": [],
   "source": [
    "clean_data_df = data_df.copy()"
   ]
  },
  {
   "cell_type": "markdown",
   "metadata": {
    "tags": []
   },
   "source": [
    "**REMOVING OUTLIERS FROM AGE**  \n",
    "- The value 311 is clearly an invalid value. Most likely, this is a typo and it should be 31.\n",
    "- The value 5 is might also be an invalid value. But since that individual's marital status is married, they are likely to be in their 50s. However, in this case, I will remove it because it it harder to assume the specific age it should be."
   ]
  },
  {
   "cell_type": "code",
   "execution_count": 16,
   "metadata": {},
   "outputs": [],
   "source": [
    "#replace the invalid value\n",
    "clean_data_df['age'] = clean_data_df['age'].replace(to_replace=311, value=31)\n",
    "#remove the row where age == 5\n",
    "indexAge = clean_data_df[(clean_data_df['age'] == 5)].index\n",
    "clean_data_df.drop(indexAge, inplace=True)"
   ]
  },
  {
   "cell_type": "markdown",
   "metadata": {},
   "source": [
    "**REMOVING ROWS WITH MISSING VALUES**  \n",
    "- In Section 2.4, the result shows that marital, default, month, poutcome, and y attributes have 1 missing values respectively. So, I will remove the respective row because I can't fill in the missing values since it is categorical data type."
   ]
  },
  {
   "cell_type": "code",
   "execution_count": 17,
   "metadata": {},
   "outputs": [],
   "source": [
    "clean_data_df.dropna(axis=0, how='any', inplace=True, subset=['marital', 'default', 'month', 'poutcome', 'y'])"
   ]
  },
  {
   "cell_type": "markdown",
   "metadata": {},
   "source": [
    "**CHECKING FOR MISSING VALUE**  \n",
    "- The result below shows that cleaning the data, we no longer have any missing values in our dataset."
   ]
  },
  {
   "cell_type": "code",
   "execution_count": 18,
   "metadata": {},
   "outputs": [
    {
     "name": "stdout",
     "output_type": "stream",
     "text": [
      "Total records: 41182 - Number of Records with NA 0 - Number of NA values: 0\n"
     ]
    }
   ],
   "source": [
    "clean_na_df = clean_data_df[clean_data_df.isna().any(axis=1)]\n",
    "num_records_with_na = clean_na_df.shape[0]\n",
    "num_na_values = clean_na_df.isna().sum().sum()\n",
    "selected_attribute_names = ['age', 'job', 'marital', 'education', 'default', 'housing', 'loan', 'contact', 'month', 'day_of_week', 'duration', 'campaign', 'pdays', 'previous', 'poutcome', 'y']\n",
    "\n",
    "print(\"Total records:\", clean_data_df.shape[0], \"- Number of Records with NA\", num_records_with_na, \"- Number of NA values:\", num_na_values)\n",
    "\n",
    "clean_na_df.head(10);\n",
    "\n",
    "for att in selected_attribute_names:\n",
    "    num_na = clean_na_df[att].isna().sum()\n",
    "    if num_na > 0:\n",
    "        print(att, clean_na_df[att].isna().sum())"
   ]
  },
  {
   "cell_type": "markdown",
   "metadata": {},
   "source": [
    "**CHECKING FOR OUTLIERS IN AGE**  \n",
    "- The result shows that the chosen outliers which are 311 and 5, have been removed."
   ]
  },
  {
   "cell_type": "code",
   "execution_count": 19,
   "metadata": {},
   "outputs": [
    {
     "data": {
      "image/png": "[encoded data removed]",
      "text/plain": [
       "<Figure size 500x300 with 1 Axes>"
      ]
     },
     "metadata": {},
     "output_type": "display_data"
    }
   ],
   "source": [
    "fig = plt.figure(figsize=(5,3))\n",
    "plt.boxplot(clean_data_df.age)\n",
    "plt.show()"
   ]
  },
  {
   "cell_type": "code",
   "execution_count": 20,
   "metadata": {},
   "outputs": [
    {
     "data": {
      "text/html": [
       "<div>\n",
       "<style scoped>\n",
       "    .dataframe tbody tr th:only-of-type {\n",
       "        vertical-align: middle;\n",
       "    }\n",
       "\n",
       "    .dataframe tbody tr th {\n",
       "        vertical-align: top;\n",
       "    }\n",
       "\n",
       "    .dataframe thead th {\n",
       "        text-align: right;\n",
       "    }\n",
       "</style>\n",
       "<table border=\"1\" class=\"dataframe\">\n",
       "  <thead>\n",
       "    <tr style=\"text-align: right;\">\n",
       "      <th></th>\n",
       "      <th>IDX</th>\n",
       "      <th>age</th>\n",
       "      <th>duration</th>\n",
       "      <th>campaign</th>\n",
       "      <th>pdays</th>\n",
       "      <th>previous</th>\n",
       "      <th>emp.var.rate</th>\n",
       "      <th>cons.price.idx</th>\n",
       "      <th>cons.conf.idx</th>\n",
       "      <th>euribor3m</th>\n",
       "      <th>nr.employed</th>\n",
       "      <th>y_numeric</th>\n",
       "    </tr>\n",
       "  </thead>\n",
       "  <tbody>\n",
       "    <tr>\n",
       "      <th>count</th>\n",
       "      <td>41182.000000</td>\n",
       "      <td>41182.000000</td>\n",
       "      <td>41182.000000</td>\n",
       "      <td>41182.000000</td>\n",
       "      <td>41182.000000</td>\n",
       "      <td>41182.000000</td>\n",
       "      <td>41182.000000</td>\n",
       "      <td>41182.000000</td>\n",
       "      <td>41182.000000</td>\n",
       "      <td>41182.000000</td>\n",
       "      <td>41182.000000</td>\n",
       "      <td>41182.000000</td>\n",
       "    </tr>\n",
       "    <tr>\n",
       "      <th>mean</th>\n",
       "      <td>20595.408747</td>\n",
       "      <td>40.024477</td>\n",
       "      <td>258.300471</td>\n",
       "      <td>2.567457</td>\n",
       "      <td>962.470133</td>\n",
       "      <td>0.172964</td>\n",
       "      <td>0.081778</td>\n",
       "      <td>93.575609</td>\n",
       "      <td>-40.502574</td>\n",
       "      <td>3.621187</td>\n",
       "      <td>5167.031048</td>\n",
       "      <td>0.112671</td>\n",
       "    </tr>\n",
       "    <tr>\n",
       "      <th>std</th>\n",
       "      <td>11889.972793</td>\n",
       "      <td>10.426296</td>\n",
       "      <td>259.293155</td>\n",
       "      <td>2.769940</td>\n",
       "      <td>186.924003</td>\n",
       "      <td>0.494917</td>\n",
       "      <td>1.570985</td>\n",
       "      <td>0.578819</td>\n",
       "      <td>4.628342</td>\n",
       "      <td>1.734474</td>\n",
       "      <td>72.253412</td>\n",
       "      <td>0.316194</td>\n",
       "    </tr>\n",
       "    <tr>\n",
       "      <th>min</th>\n",
       "      <td>1.000000</td>\n",
       "      <td>17.000000</td>\n",
       "      <td>0.000000</td>\n",
       "      <td>1.000000</td>\n",
       "      <td>0.000000</td>\n",
       "      <td>0.000000</td>\n",
       "      <td>-3.400000</td>\n",
       "      <td>92.201000</td>\n",
       "      <td>-50.800000</td>\n",
       "      <td>0.634000</td>\n",
       "      <td>4963.600000</td>\n",
       "      <td>0.000000</td>\n",
       "    </tr>\n",
       "    <tr>\n",
       "      <th>25%</th>\n",
       "      <td>10300.250000</td>\n",
       "      <td>32.000000</td>\n",
       "      <td>102.000000</td>\n",
       "      <td>1.000000</td>\n",
       "      <td>999.000000</td>\n",
       "      <td>0.000000</td>\n",
       "      <td>-1.800000</td>\n",
       "      <td>93.075000</td>\n",
       "      <td>-42.700000</td>\n",
       "      <td>1.344000</td>\n",
       "      <td>5099.100000</td>\n",
       "      <td>0.000000</td>\n",
       "    </tr>\n",
       "    <tr>\n",
       "      <th>50%</th>\n",
       "      <td>20595.500000</td>\n",
       "      <td>38.000000</td>\n",
       "      <td>180.000000</td>\n",
       "      <td>2.000000</td>\n",
       "      <td>999.000000</td>\n",
       "      <td>0.000000</td>\n",
       "      <td>1.100000</td>\n",
       "      <td>93.749000</td>\n",
       "      <td>-41.800000</td>\n",
       "      <td>4.857000</td>\n",
       "      <td>5191.000000</td>\n",
       "      <td>0.000000</td>\n",
       "    </tr>\n",
       "    <tr>\n",
       "      <th>75%</th>\n",
       "      <td>30891.750000</td>\n",
       "      <td>47.000000</td>\n",
       "      <td>319.000000</td>\n",
       "      <td>3.000000</td>\n",
       "      <td>999.000000</td>\n",
       "      <td>0.000000</td>\n",
       "      <td>1.400000</td>\n",
       "      <td>93.994000</td>\n",
       "      <td>-36.400000</td>\n",
       "      <td>4.961000</td>\n",
       "      <td>5228.100000</td>\n",
       "      <td>0.000000</td>\n",
       "    </tr>\n",
       "    <tr>\n",
       "      <th>max</th>\n",
       "      <td>41188.000000</td>\n",
       "      <td>112.000000</td>\n",
       "      <td>4918.000000</td>\n",
       "      <td>56.000000</td>\n",
       "      <td>999.000000</td>\n",
       "      <td>7.000000</td>\n",
       "      <td>1.400000</td>\n",
       "      <td>94.767000</td>\n",
       "      <td>-26.900000</td>\n",
       "      <td>5.045000</td>\n",
       "      <td>5228.100000</td>\n",
       "      <td>1.000000</td>\n",
       "    </tr>\n",
       "  </tbody>\n",
       "</table>\n",
       "</div>"
      ],
      "text/plain": [
       "                IDX           age      duration      campaign         pdays  \\\n",
       "count  41182.000000  41182.000000  41182.000000  41182.000000  41182.000000   \n",
       "mean   20595.408747     40.024477    258.300471      2.567457    962.470133   \n",
       "std    11889.972793     10.426296    259.293155      2.769940    186.924003   \n",
       "min        1.000000     17.000000      0.000000      1.000000      0.000000   \n",
       "25%    10300.250000     32.000000    102.000000      1.000000    999.000000   \n",
       "50%    20595.500000     38.000000    180.000000      2.000000    999.000000   \n",
       "75%    30891.750000     47.000000    319.000000      3.000000    999.000000   \n",
       "max    41188.000000    112.000000   4918.000000     56.000000    999.000000   \n",
       "\n",
       "           previous  emp.var.rate  cons.price.idx  cons.conf.idx  \\\n",
       "count  41182.000000  41182.000000    41182.000000   41182.000000   \n",
       "mean       0.172964      0.081778       93.575609     -40.502574   \n",
       "std        0.494917      1.570985        0.578819       4.628342   \n",
       "min        0.000000     -3.400000       92.201000     -50.800000   \n",
       "25%        0.000000     -1.800000       93.075000     -42.700000   \n",
       "50%        0.000000      1.100000       93.749000     -41.800000   \n",
       "75%        0.000000      1.400000       93.994000     -36.400000   \n",
       "max        7.000000      1.400000       94.767000     -26.900000   \n",
       "\n",
       "          euribor3m   nr.employed     y_numeric  \n",
       "count  41182.000000  41182.000000  41182.000000  \n",
       "mean       3.621187   5167.031048      0.112671  \n",
       "std        1.734474     72.253412      0.316194  \n",
       "min        0.634000   4963.600000      0.000000  \n",
       "25%        1.344000   5099.100000      0.000000  \n",
       "50%        4.857000   5191.000000      0.000000  \n",
       "75%        4.961000   5228.100000      0.000000  \n",
       "max        5.045000   5228.100000      1.000000  "
      ]
     },
     "execution_count": 20,
     "metadata": {},
     "output_type": "execute_result"
    }
   ],
   "source": [
    "clean_data_df.describe()"
   ]
  },
  {
   "cell_type": "markdown",
   "metadata": {},
   "source": [
    "**REMOVE UNKNOWN FROM MARITAL**\n",
    "- This is done for modeling purposes in Section 4."
   ]
  },
  {
   "cell_type": "code",
   "execution_count": 21,
   "metadata": {},
   "outputs": [],
   "source": [
    "clean_data_df = clean_data_df[clean_data_df['marital'] != 'unknown']"
   ]
  },
  {
   "cell_type": "markdown",
   "metadata": {},
   "source": [
    "***\n",
    "## Section: 3.2 - Select Attributes\n",
    "- Optionally, remove attributes that are unneeded, redundant, etc., for the expected uses.\n",
    "- Which attributes did you decide to remove, if any? Please justify.\n",
    "***"
   ]
  },
  {
   "cell_type": "markdown",
   "metadata": {},
   "source": [
    "Based on Section 2.6, I concluded that cons.conf.idx has no correlation to y variable. **Therefore, I will remove cons.conf.idx.**"
   ]
  },
  {
   "cell_type": "code",
   "execution_count": 22,
   "metadata": {},
   "outputs": [],
   "source": [
    "clean_data_df.drop('cons.conf.idx', axis=1, inplace=True)"
   ]
  },
  {
   "cell_type": "code",
   "execution_count": 23,
   "metadata": {},
   "outputs": [
    {
     "data": {
      "text/html": [
       "<div>\n",
       "<style scoped>\n",
       "    .dataframe tbody tr th:only-of-type {\n",
       "        vertical-align: middle;\n",
       "    }\n",
       "\n",
       "    .dataframe tbody tr th {\n",
       "        vertical-align: top;\n",
       "    }\n",
       "\n",
       "    .dataframe thead th {\n",
       "        text-align: right;\n",
       "    }\n",
       "</style>\n",
       "<table border=\"1\" class=\"dataframe\">\n",
       "  <thead>\n",
       "    <tr style=\"text-align: right;\">\n",
       "      <th></th>\n",
       "      <th>IDX</th>\n",
       "      <th>age</th>\n",
       "      <th>duration</th>\n",
       "      <th>campaign</th>\n",
       "      <th>pdays</th>\n",
       "      <th>previous</th>\n",
       "      <th>emp.var.rate</th>\n",
       "      <th>cons.price.idx</th>\n",
       "      <th>euribor3m</th>\n",
       "      <th>nr.employed</th>\n",
       "      <th>y_numeric</th>\n",
       "    </tr>\n",
       "  </thead>\n",
       "  <tbody>\n",
       "    <tr>\n",
       "      <th>count</th>\n",
       "      <td>41102.000000</td>\n",
       "      <td>41102.000000</td>\n",
       "      <td>41102.000000</td>\n",
       "      <td>41102.000000</td>\n",
       "      <td>41102.000000</td>\n",
       "      <td>41102.000000</td>\n",
       "      <td>41102.000000</td>\n",
       "      <td>41102.000000</td>\n",
       "      <td>41102.000000</td>\n",
       "      <td>41102.000000</td>\n",
       "      <td>41102.000000</td>\n",
       "    </tr>\n",
       "    <tr>\n",
       "      <th>mean</th>\n",
       "      <td>20592.741059</td>\n",
       "      <td>40.023989</td>\n",
       "      <td>258.194540</td>\n",
       "      <td>2.566250</td>\n",
       "      <td>962.519512</td>\n",
       "      <td>0.172765</td>\n",
       "      <td>0.082368</td>\n",
       "      <td>93.575812</td>\n",
       "      <td>3.621787</td>\n",
       "      <td>5167.049805</td>\n",
       "      <td>0.112598</td>\n",
       "    </tr>\n",
       "    <tr>\n",
       "      <th>std</th>\n",
       "      <td>11889.478113</td>\n",
       "      <td>10.425716</td>\n",
       "      <td>259.233116</td>\n",
       "      <td>2.767527</td>\n",
       "      <td>186.803280</td>\n",
       "      <td>0.494789</td>\n",
       "      <td>1.570785</td>\n",
       "      <td>0.578706</td>\n",
       "      <td>1.734303</td>\n",
       "      <td>72.257237</td>\n",
       "      <td>0.316105</td>\n",
       "    </tr>\n",
       "    <tr>\n",
       "      <th>min</th>\n",
       "      <td>1.000000</td>\n",
       "      <td>17.000000</td>\n",
       "      <td>0.000000</td>\n",
       "      <td>1.000000</td>\n",
       "      <td>0.000000</td>\n",
       "      <td>0.000000</td>\n",
       "      <td>-3.400000</td>\n",
       "      <td>92.201000</td>\n",
       "      <td>0.634000</td>\n",
       "      <td>4963.600000</td>\n",
       "      <td>0.000000</td>\n",
       "    </tr>\n",
       "    <tr>\n",
       "      <th>25%</th>\n",
       "      <td>10297.250000</td>\n",
       "      <td>32.000000</td>\n",
       "      <td>102.000000</td>\n",
       "      <td>1.000000</td>\n",
       "      <td>999.000000</td>\n",
       "      <td>0.000000</td>\n",
       "      <td>-1.800000</td>\n",
       "      <td>93.075000</td>\n",
       "      <td>1.344000</td>\n",
       "      <td>5099.100000</td>\n",
       "      <td>0.000000</td>\n",
       "    </tr>\n",
       "    <tr>\n",
       "      <th>50%</th>\n",
       "      <td>20588.500000</td>\n",
       "      <td>38.000000</td>\n",
       "      <td>180.000000</td>\n",
       "      <td>2.000000</td>\n",
       "      <td>999.000000</td>\n",
       "      <td>0.000000</td>\n",
       "      <td>1.100000</td>\n",
       "      <td>93.749000</td>\n",
       "      <td>4.857000</td>\n",
       "      <td>5191.000000</td>\n",
       "      <td>0.000000</td>\n",
       "    </tr>\n",
       "    <tr>\n",
       "      <th>75%</th>\n",
       "      <td>30885.750000</td>\n",
       "      <td>47.000000</td>\n",
       "      <td>319.000000</td>\n",
       "      <td>3.000000</td>\n",
       "      <td>999.000000</td>\n",
       "      <td>0.000000</td>\n",
       "      <td>1.400000</td>\n",
       "      <td>93.994000</td>\n",
       "      <td>4.961000</td>\n",
       "      <td>5228.100000</td>\n",
       "      <td>0.000000</td>\n",
       "    </tr>\n",
       "    <tr>\n",
       "      <th>max</th>\n",
       "      <td>41188.000000</td>\n",
       "      <td>112.000000</td>\n",
       "      <td>4918.000000</td>\n",
       "      <td>56.000000</td>\n",
       "      <td>999.000000</td>\n",
       "      <td>7.000000</td>\n",
       "      <td>1.400000</td>\n",
       "      <td>94.767000</td>\n",
       "      <td>5.045000</td>\n",
       "      <td>5228.100000</td>\n",
       "      <td>1.000000</td>\n",
       "    </tr>\n",
       "  </tbody>\n",
       "</table>\n",
       "</div>"
      ],
      "text/plain": [
       "                IDX           age      duration      campaign         pdays  \\\n",
       "count  41102.000000  41102.000000  41102.000000  41102.000000  41102.000000   \n",
       "mean   20592.741059     40.023989    258.194540      2.566250    962.519512   \n",
       "std    11889.478113     10.425716    259.233116      2.767527    186.803280   \n",
       "min        1.000000     17.000000      0.000000      1.000000      0.000000   \n",
       "25%    10297.250000     32.000000    102.000000      1.000000    999.000000   \n",
       "50%    20588.500000     38.000000    180.000000      2.000000    999.000000   \n",
       "75%    30885.750000     47.000000    319.000000      3.000000    999.000000   \n",
       "max    41188.000000    112.000000   4918.000000     56.000000    999.000000   \n",
       "\n",
       "           previous  emp.var.rate  cons.price.idx     euribor3m   nr.employed  \\\n",
       "count  41102.000000  41102.000000    41102.000000  41102.000000  41102.000000   \n",
       "mean       0.172765      0.082368       93.575812      3.621787   5167.049805   \n",
       "std        0.494789      1.570785        0.578706      1.734303     72.257237   \n",
       "min        0.000000     -3.400000       92.201000      0.634000   4963.600000   \n",
       "25%        0.000000     -1.800000       93.075000      1.344000   5099.100000   \n",
       "50%        0.000000      1.100000       93.749000      4.857000   5191.000000   \n",
       "75%        0.000000      1.400000       93.994000      4.961000   5228.100000   \n",
       "max        7.000000      1.400000       94.767000      5.045000   5228.100000   \n",
       "\n",
       "          y_numeric  \n",
       "count  41102.000000  \n",
       "mean       0.112598  \n",
       "std        0.316105  \n",
       "min        0.000000  \n",
       "25%        0.000000  \n",
       "50%        0.000000  \n",
       "75%        0.000000  \n",
       "max        1.000000  "
      ]
     },
     "execution_count": 23,
     "metadata": {},
     "output_type": "execute_result"
    }
   ],
   "source": [
    "clean_data_df.describe()"
   ]
  },
  {
   "cell_type": "markdown",
   "metadata": {},
   "source": [
    "***\n",
    "## Section: 3.3 - Create Attributes\n",
    "- Optionally, create new attributes based on the values of other attibutes.\n",
    "- Which new attributes did you decide to create, if any? Please justify.\n",
    "***"
   ]
  },
  {
   "cell_type": "markdown",
   "metadata": {
    "tags": []
   },
   "source": [
    "**Discussion:**\n",
    "\n",
    "I choose to not create any new attributes because first, most of our attributes inherit categorical data type, so I can't combine any 2 attributes to create a new attribute. Most importantly, I don't see a need to add a new attribute."
   ]
  },
  {
   "cell_type": "markdown",
   "metadata": {},
   "source": [
    "***\n",
    "## Section: 3.4 - Transform Attributes\n",
    "- Optionally, transform existing attributes (e.g., standardize, normalize, change units of measure, encode) to make them more appropriate for the expected uses.\n",
    "- Which attributes did you decide to transform, if any? Please justify.\n",
    "***"
   ]
  },
  {
   "cell_type": "markdown",
   "metadata": {},
   "source": [
    "**Discussion:**\n",
    "\n",
    "I don't see a need to transform any attributes. However, I want do it for practice.  \n",
    "I choose to change the unit of duration from seconds to minutes. After converting it to minutes, I think it is actually more helpful to have duration in minutes because it was hard to know how long 2000 seconds are compare to knowing how long 2 minutes are."
   ]
  },
  {
   "cell_type": "code",
   "execution_count": 24,
   "metadata": {
    "tags": []
   },
   "outputs": [],
   "source": [
    "clean_data_df['duration'] = clean_data_df['duration'] / 60"
   ]
  },
  {
   "cell_type": "code",
   "execution_count": 25,
   "metadata": {},
   "outputs": [
    {
     "data": {
      "text/html": [
       "<div>\n",
       "<style scoped>\n",
       "    .dataframe tbody tr th:only-of-type {\n",
       "        vertical-align: middle;\n",
       "    }\n",
       "\n",
       "    .dataframe tbody tr th {\n",
       "        vertical-align: top;\n",
       "    }\n",
       "\n",
       "    .dataframe thead th {\n",
       "        text-align: right;\n",
       "    }\n",
       "</style>\n",
       "<table border=\"1\" class=\"dataframe\">\n",
       "  <thead>\n",
       "    <tr style=\"text-align: right;\">\n",
       "      <th></th>\n",
       "      <th>IDX</th>\n",
       "      <th>age</th>\n",
       "      <th>job</th>\n",
       "      <th>marital</th>\n",
       "      <th>education</th>\n",
       "      <th>default</th>\n",
       "      <th>housing</th>\n",
       "      <th>loan</th>\n",
       "      <th>contact</th>\n",
       "      <th>month</th>\n",
       "      <th>day_of_week</th>\n",
       "      <th>duration</th>\n",
       "      <th>campaign</th>\n",
       "      <th>pdays</th>\n",
       "      <th>previous</th>\n",
       "      <th>poutcome</th>\n",
       "      <th>emp.var.rate</th>\n",
       "      <th>cons.price.idx</th>\n",
       "      <th>euribor3m</th>\n",
       "      <th>nr.employed</th>\n",
       "      <th>y</th>\n",
       "      <th>y_numeric</th>\n",
       "    </tr>\n",
       "  </thead>\n",
       "  <tbody>\n",
       "    <tr>\n",
       "      <th>0</th>\n",
       "      <td>1</td>\n",
       "      <td>56</td>\n",
       "      <td>housemaid</td>\n",
       "      <td>married</td>\n",
       "      <td>basic.4y</td>\n",
       "      <td>no</td>\n",
       "      <td>no</td>\n",
       "      <td>no</td>\n",
       "      <td>telephone</td>\n",
       "      <td>may</td>\n",
       "      <td>mon</td>\n",
       "      <td>4.350000</td>\n",
       "      <td>1</td>\n",
       "      <td>999</td>\n",
       "      <td>0</td>\n",
       "      <td>nonexistent</td>\n",
       "      <td>1.1</td>\n",
       "      <td>93.994</td>\n",
       "      <td>4.857</td>\n",
       "      <td>5191.0</td>\n",
       "      <td>no</td>\n",
       "      <td>0.0</td>\n",
       "    </tr>\n",
       "    <tr>\n",
       "      <th>1</th>\n",
       "      <td>2</td>\n",
       "      <td>57</td>\n",
       "      <td>services</td>\n",
       "      <td>married</td>\n",
       "      <td>high.school</td>\n",
       "      <td>unknown</td>\n",
       "      <td>no</td>\n",
       "      <td>no</td>\n",
       "      <td>telephone</td>\n",
       "      <td>may</td>\n",
       "      <td>mon</td>\n",
       "      <td>2.483333</td>\n",
       "      <td>1</td>\n",
       "      <td>999</td>\n",
       "      <td>0</td>\n",
       "      <td>nonexistent</td>\n",
       "      <td>1.1</td>\n",
       "      <td>93.994</td>\n",
       "      <td>4.857</td>\n",
       "      <td>5191.0</td>\n",
       "      <td>no</td>\n",
       "      <td>0.0</td>\n",
       "    </tr>\n",
       "    <tr>\n",
       "      <th>2</th>\n",
       "      <td>3</td>\n",
       "      <td>37</td>\n",
       "      <td>services</td>\n",
       "      <td>married</td>\n",
       "      <td>high.school</td>\n",
       "      <td>no</td>\n",
       "      <td>yes</td>\n",
       "      <td>no</td>\n",
       "      <td>telephone</td>\n",
       "      <td>may</td>\n",
       "      <td>mon</td>\n",
       "      <td>3.766667</td>\n",
       "      <td>1</td>\n",
       "      <td>999</td>\n",
       "      <td>0</td>\n",
       "      <td>nonexistent</td>\n",
       "      <td>1.1</td>\n",
       "      <td>93.994</td>\n",
       "      <td>4.857</td>\n",
       "      <td>5191.0</td>\n",
       "      <td>no</td>\n",
       "      <td>0.0</td>\n",
       "    </tr>\n",
       "    <tr>\n",
       "      <th>3</th>\n",
       "      <td>4</td>\n",
       "      <td>40</td>\n",
       "      <td>admin.</td>\n",
       "      <td>married</td>\n",
       "      <td>basic.6y</td>\n",
       "      <td>no</td>\n",
       "      <td>no</td>\n",
       "      <td>no</td>\n",
       "      <td>telephone</td>\n",
       "      <td>may</td>\n",
       "      <td>mon</td>\n",
       "      <td>2.516667</td>\n",
       "      <td>1</td>\n",
       "      <td>999</td>\n",
       "      <td>0</td>\n",
       "      <td>nonexistent</td>\n",
       "      <td>1.1</td>\n",
       "      <td>93.994</td>\n",
       "      <td>4.857</td>\n",
       "      <td>5191.0</td>\n",
       "      <td>no</td>\n",
       "      <td>0.0</td>\n",
       "    </tr>\n",
       "    <tr>\n",
       "      <th>4</th>\n",
       "      <td>5</td>\n",
       "      <td>56</td>\n",
       "      <td>services</td>\n",
       "      <td>married</td>\n",
       "      <td>high.school</td>\n",
       "      <td>no</td>\n",
       "      <td>no</td>\n",
       "      <td>yes</td>\n",
       "      <td>telephone</td>\n",
       "      <td>may</td>\n",
       "      <td>mon</td>\n",
       "      <td>5.116667</td>\n",
       "      <td>1</td>\n",
       "      <td>999</td>\n",
       "      <td>0</td>\n",
       "      <td>nonexistent</td>\n",
       "      <td>1.1</td>\n",
       "      <td>93.994</td>\n",
       "      <td>4.857</td>\n",
       "      <td>5191.0</td>\n",
       "      <td>no</td>\n",
       "      <td>0.0</td>\n",
       "    </tr>\n",
       "  </tbody>\n",
       "</table>\n",
       "</div>"
      ],
      "text/plain": [
       "   IDX  age        job  marital    education  default housing loan    contact  \\\n",
       "0    1   56  housemaid  married     basic.4y       no      no   no  telephone   \n",
       "1    2   57   services  married  high.school  unknown      no   no  telephone   \n",
       "2    3   37   services  married  high.school       no     yes   no  telephone   \n",
       "3    4   40     admin.  married     basic.6y       no      no   no  telephone   \n",
       "4    5   56   services  married  high.school       no      no  yes  telephone   \n",
       "\n",
       "  month day_of_week  duration  campaign  pdays  previous     poutcome  \\\n",
       "0   may         mon  4.350000         1    999         0  nonexistent   \n",
       "1   may         mon  2.483333         1    999         0  nonexistent   \n",
       "2   may         mon  3.766667         1    999         0  nonexistent   \n",
       "3   may         mon  2.516667         1    999         0  nonexistent   \n",
       "4   may         mon  5.116667         1    999         0  nonexistent   \n",
       "\n",
       "   emp.var.rate  cons.price.idx  euribor3m  nr.employed   y  y_numeric  \n",
       "0           1.1          93.994      4.857       5191.0  no        0.0  \n",
       "1           1.1          93.994      4.857       5191.0  no        0.0  \n",
       "2           1.1          93.994      4.857       5191.0  no        0.0  \n",
       "3           1.1          93.994      4.857       5191.0  no        0.0  \n",
       "4           1.1          93.994      4.857       5191.0  no        0.0  "
      ]
     },
     "execution_count": 25,
     "metadata": {},
     "output_type": "execute_result"
    }
   ],
   "source": [
    "clean_data_df.head()"
   ]
  },
  {
   "cell_type": "markdown",
   "metadata": {},
   "source": [
    "***\n",
    "## Section: 3.5 - Select Records\n",
    "- Optionally, select a subset of the records, via sampling, etc., to decrease the size of the dataset. Please justify.\n",
    "***"
   ]
  },
  {
   "cell_type": "markdown",
   "metadata": {},
   "source": [
    "**Discussion:**\n",
    "\n",
    "I don't see the need to trim the records too. However, I want to do it for practice. As we can see, after trimming the records, the statistics for the attributes changed accordingly."
   ]
  },
  {
   "cell_type": "code",
   "execution_count": 26,
   "metadata": {
    "tags": []
   },
   "outputs": [
    {
     "data": {
      "text/html": [
       "<div>\n",
       "<style scoped>\n",
       "    .dataframe tbody tr th:only-of-type {\n",
       "        vertical-align: middle;\n",
       "    }\n",
       "\n",
       "    .dataframe tbody tr th {\n",
       "        vertical-align: top;\n",
       "    }\n",
       "\n",
       "    .dataframe thead th {\n",
       "        text-align: right;\n",
       "    }\n",
       "</style>\n",
       "<table border=\"1\" class=\"dataframe\">\n",
       "  <thead>\n",
       "    <tr style=\"text-align: right;\">\n",
       "      <th></th>\n",
       "      <th>IDX</th>\n",
       "      <th>age</th>\n",
       "      <th>duration</th>\n",
       "      <th>campaign</th>\n",
       "      <th>pdays</th>\n",
       "      <th>previous</th>\n",
       "      <th>emp.var.rate</th>\n",
       "      <th>cons.price.idx</th>\n",
       "      <th>euribor3m</th>\n",
       "      <th>nr.employed</th>\n",
       "      <th>y_numeric</th>\n",
       "    </tr>\n",
       "  </thead>\n",
       "  <tbody>\n",
       "    <tr>\n",
       "      <th>count</th>\n",
       "      <td>30.000000</td>\n",
       "      <td>30.000000</td>\n",
       "      <td>30.000000</td>\n",
       "      <td>30.000000</td>\n",
       "      <td>30.0</td>\n",
       "      <td>30.000000</td>\n",
       "      <td>30.000000</td>\n",
       "      <td>30.000000</td>\n",
       "      <td>30.000000</td>\n",
       "      <td>30.000000</td>\n",
       "      <td>30.000000</td>\n",
       "    </tr>\n",
       "    <tr>\n",
       "      <th>mean</th>\n",
       "      <td>20134.466667</td>\n",
       "      <td>40.266667</td>\n",
       "      <td>2.963333</td>\n",
       "      <td>2.200000</td>\n",
       "      <td>999.0</td>\n",
       "      <td>0.033333</td>\n",
       "      <td>0.246667</td>\n",
       "      <td>93.534633</td>\n",
       "      <td>3.909700</td>\n",
       "      <td>5182.120000</td>\n",
       "      <td>0.066667</td>\n",
       "    </tr>\n",
       "    <tr>\n",
       "      <th>std</th>\n",
       "      <td>10921.552753</td>\n",
       "      <td>8.432013</td>\n",
       "      <td>2.780448</td>\n",
       "      <td>1.900998</td>\n",
       "      <td>0.0</td>\n",
       "      <td>0.182574</td>\n",
       "      <td>1.366529</td>\n",
       "      <td>0.494710</td>\n",
       "      <td>1.503394</td>\n",
       "      <td>50.986614</td>\n",
       "      <td>0.253708</td>\n",
       "    </tr>\n",
       "    <tr>\n",
       "      <th>min</th>\n",
       "      <td>1181.000000</td>\n",
       "      <td>24.000000</td>\n",
       "      <td>0.250000</td>\n",
       "      <td>1.000000</td>\n",
       "      <td>999.0</td>\n",
       "      <td>0.000000</td>\n",
       "      <td>-2.900000</td>\n",
       "      <td>92.893000</td>\n",
       "      <td>1.250000</td>\n",
       "      <td>5076.200000</td>\n",
       "      <td>0.000000</td>\n",
       "    </tr>\n",
       "    <tr>\n",
       "      <th>25%</th>\n",
       "      <td>9082.500000</td>\n",
       "      <td>34.250000</td>\n",
       "      <td>1.141667</td>\n",
       "      <td>1.000000</td>\n",
       "      <td>999.0</td>\n",
       "      <td>0.000000</td>\n",
       "      <td>-0.100000</td>\n",
       "      <td>93.200000</td>\n",
       "      <td>4.076000</td>\n",
       "      <td>5191.000000</td>\n",
       "      <td>0.000000</td>\n",
       "    </tr>\n",
       "    <tr>\n",
       "      <th>50%</th>\n",
       "      <td>21809.000000</td>\n",
       "      <td>39.000000</td>\n",
       "      <td>2.341667</td>\n",
       "      <td>1.000000</td>\n",
       "      <td>999.0</td>\n",
       "      <td>0.000000</td>\n",
       "      <td>1.100000</td>\n",
       "      <td>93.444000</td>\n",
       "      <td>4.857000</td>\n",
       "      <td>5195.800000</td>\n",
       "      <td>0.000000</td>\n",
       "    </tr>\n",
       "    <tr>\n",
       "      <th>75%</th>\n",
       "      <td>26826.000000</td>\n",
       "      <td>45.000000</td>\n",
       "      <td>3.825000</td>\n",
       "      <td>3.000000</td>\n",
       "      <td>999.0</td>\n",
       "      <td>0.000000</td>\n",
       "      <td>1.400000</td>\n",
       "      <td>93.994000</td>\n",
       "      <td>4.954500</td>\n",
       "      <td>5228.100000</td>\n",
       "      <td>0.000000</td>\n",
       "    </tr>\n",
       "    <tr>\n",
       "      <th>max</th>\n",
       "      <td>36551.000000</td>\n",
       "      <td>58.000000</td>\n",
       "      <td>14.800000</td>\n",
       "      <td>9.000000</td>\n",
       "      <td>999.0</td>\n",
       "      <td>1.000000</td>\n",
       "      <td>1.400000</td>\n",
       "      <td>94.465000</td>\n",
       "      <td>4.968000</td>\n",
       "      <td>5228.100000</td>\n",
       "      <td>1.000000</td>\n",
       "    </tr>\n",
       "  </tbody>\n",
       "</table>\n",
       "</div>"
      ],
      "text/plain": [
       "                IDX        age   duration   campaign  pdays   previous  \\\n",
       "count     30.000000  30.000000  30.000000  30.000000   30.0  30.000000   \n",
       "mean   20134.466667  40.266667   2.963333   2.200000  999.0   0.033333   \n",
       "std    10921.552753   8.432013   2.780448   1.900998    0.0   0.182574   \n",
       "min     1181.000000  24.000000   0.250000   1.000000  999.0   0.000000   \n",
       "25%     9082.500000  34.250000   1.141667   1.000000  999.0   0.000000   \n",
       "50%    21809.000000  39.000000   2.341667   1.000000  999.0   0.000000   \n",
       "75%    26826.000000  45.000000   3.825000   3.000000  999.0   0.000000   \n",
       "max    36551.000000  58.000000  14.800000   9.000000  999.0   1.000000   \n",
       "\n",
       "       emp.var.rate  cons.price.idx  euribor3m  nr.employed  y_numeric  \n",
       "count     30.000000       30.000000  30.000000    30.000000  30.000000  \n",
       "mean       0.246667       93.534633   3.909700  5182.120000   0.066667  \n",
       "std        1.366529        0.494710   1.503394    50.986614   0.253708  \n",
       "min       -2.900000       92.893000   1.250000  5076.200000   0.000000  \n",
       "25%       -0.100000       93.200000   4.076000  5191.000000   0.000000  \n",
       "50%        1.100000       93.444000   4.857000  5195.800000   0.000000  \n",
       "75%        1.400000       93.994000   4.954500  5228.100000   0.000000  \n",
       "max        1.400000       94.465000   4.968000  5228.100000   1.000000  "
      ]
     },
     "execution_count": 26,
     "metadata": {},
     "output_type": "execute_result"
    }
   ],
   "source": [
    "clean_data_sample_df = clean_data_df.sample(n=30, replace=True, random_state=45)\n",
    "clean_data_sample_df.describe()"
   ]
  },
  {
   "cell_type": "markdown",
   "metadata": {},
   "source": [
    "***\n",
    "## Section: 3.6 - Other Data Preparation\n",
    "- Optionally, perform other preparation steps (e.g., to optimize storage, retrieval, etc.). Please justify.\n",
    "***"
   ]
  },
  {
   "cell_type": "markdown",
   "metadata": {},
   "source": [
    "**Discussion:**\n",
    "I don't see any need to do any other data preparation."
   ]
  },
  {
   "cell_type": "markdown",
   "metadata": {
    "tags": []
   },
   "source": [
    "***\n",
    "# Section: 4 - Modeling - **DO THIS!**\n",
    "In this step, the dataset is analyzed and used to create models and/or answer questions relevant to the business. This may include:\n",
    "- Developing statistical models for describing or predicting business situations.\n",
    "- Training data mining (e.g., machine learning) algorithms for classification, clustering, association analysis, outlier detection, and other uses.\n",
    "\n",
    "NOTE: This step is tightly coupled and iterative with the Data Preparation and Evaluation steps.\n",
    "***"
   ]
  },
  {
   "cell_type": "markdown",
   "metadata": {},
   "source": [
    "### MODELING"
   ]
  },
  {
   "cell_type": "code",
   "execution_count": 27,
   "metadata": {},
   "outputs": [
    {
     "data": {
      "image/png": "[encoded data removed]",
      "text/plain": [
       "<Figure size 1700x800 with 1 Axes>"
      ]
     },
     "metadata": {},
     "output_type": "display_data"
    }
   ],
   "source": [
    "clean_data_df['age_group'] = pd.cut(clean_data_df['age'], bins=[20, 30, 40, 50, 60, 70, 80, 90, 100])\n",
    "crosstab_data_grouped = pd.crosstab(clean_data_df['age_group'], clean_data_df['y'])\n",
    "\n",
    "# Plot again with fewer age categories\n",
    "crosstab_data_grouped.plot(kind='bar', stacked=False, figsize=(17, 8))\n",
    "plt.ylabel('y count')\n",
    "plt.xlabel('age group')\n",
    "plt.xticks(rotation=45)\n",
    "plt.show()\n"
   ]
  },
  {
   "cell_type": "markdown",
   "metadata": {},
   "source": [
    "**Discussion:**\n",
    "\n",
    "The figure above shows that people within the age 20-60 has the highest yes count. The number of yes count decrease as age increase, and it only increase when age is within the range 30-40, then it drop back down. This indicates that age is a good predictor of y value."
   ]
  },
  {
   "cell_type": "code",
   "execution_count": 28,
   "metadata": {},
   "outputs": [
    {
     "data": {
      "image/png": "[encoded data removed]",
      "text/plain": [
       "<Figure size 1700x800 with 1 Axes>"
      ]
     },
     "metadata": {},
     "output_type": "display_data"
    }
   ],
   "source": [
    "clean_data_df['duration_group'] = pd.cut(clean_data_df['duration'], bins=[5, 10, 15, 20, 25, 30, 35, 40, 45, 50, 55, 60])\n",
    "crosstab_data_grouped = pd.crosstab(clean_data_df['duration_group'], clean_data_df['y'])\n",
    "\n",
    "# Plot again with fewer age categories\n",
    "crosstab_data_grouped.plot(kind='bar', stacked=False, figsize=(17, 8))\n",
    "plt.ylabel('y count')\n",
    "plt.xlabel('duration group (in minutes)')\n",
    "plt.xticks(rotation=45)\n",
    "plt.show()"
   ]
  },
  {
   "cell_type": "markdown",
   "metadata": {},
   "source": [
    "**Discussion**\n",
    "\n",
    "The figure above shows that there is a relationship between y and duration, where when duration increases, y decreases. Therefore, duration could be a good predictor of y value."
   ]
  },
  {
   "cell_type": "code",
   "execution_count": 29,
   "metadata": {},
   "outputs": [
    {
     "data": {
      "text/html": [
       "<div>\n",
       "<style scoped>\n",
       "    .dataframe tbody tr th:only-of-type {\n",
       "        vertical-align: middle;\n",
       "    }\n",
       "\n",
       "    .dataframe tbody tr th {\n",
       "        vertical-align: top;\n",
       "    }\n",
       "\n",
       "    .dataframe thead th {\n",
       "        text-align: right;\n",
       "    }\n",
       "</style>\n",
       "<table border=\"1\" class=\"dataframe\">\n",
       "  <thead>\n",
       "    <tr style=\"text-align: right;\">\n",
       "      <th>y_numeric</th>\n",
       "      <th>0.0</th>\n",
       "      <th>1.0</th>\n",
       "      <th>All</th>\n",
       "    </tr>\n",
       "    <tr>\n",
       "      <th>marital</th>\n",
       "      <th></th>\n",
       "      <th></th>\n",
       "      <th></th>\n",
       "    </tr>\n",
       "  </thead>\n",
       "  <tbody>\n",
       "    <tr>\n",
       "      <th>divorced</th>\n",
       "      <td>4135</td>\n",
       "      <td>476</td>\n",
       "      <td>4611</td>\n",
       "    </tr>\n",
       "    <tr>\n",
       "      <th>married</th>\n",
       "      <td>22393</td>\n",
       "      <td>2532</td>\n",
       "      <td>24925</td>\n",
       "    </tr>\n",
       "    <tr>\n",
       "      <th>single</th>\n",
       "      <td>9946</td>\n",
       "      <td>1620</td>\n",
       "      <td>11566</td>\n",
       "    </tr>\n",
       "    <tr>\n",
       "      <th>All</th>\n",
       "      <td>36474</td>\n",
       "      <td>4628</td>\n",
       "      <td>41102</td>\n",
       "    </tr>\n",
       "  </tbody>\n",
       "</table>\n",
       "</div>"
      ],
      "text/plain": [
       "y_numeric    0.0   1.0    All\n",
       "marital                      \n",
       "divorced    4135   476   4611\n",
       "married    22393  2532  24925\n",
       "single      9946  1620  11566\n",
       "All        36474  4628  41102"
      ]
     },
     "execution_count": 29,
     "metadata": {},
     "output_type": "execute_result"
    }
   ],
   "source": [
    "table = pd.pivot_table(clean_data_df, values='y', index=['marital'], \\\n",
    "                       columns=['y_numeric'], aggfunc=lambda x: len(x), fill_value=0, margins=True)\n",
    "\n",
    "table"
   ]
  },
  {
   "cell_type": "markdown",
   "metadata": {},
   "source": [
    "**Discussion**\n",
    "\n",
    "According to the pivot table above, only looking at the column 1.0 which maps to 'yes' for y value, married and single people are highly likely to say yes compared to divorced people. Therefore, marital status could be a good indicator of y value.\n",
    "\n",
    "Note: In section 3.1, I clean the data where I removed the unknown from marital."
   ]
  },
  {
   "cell_type": "code",
   "execution_count": 30,
   "metadata": {},
   "outputs": [
    {
     "data": {
      "text/html": [
       "<div>\n",
       "<style scoped>\n",
       "    .dataframe tbody tr th:only-of-type {\n",
       "        vertical-align: middle;\n",
       "    }\n",
       "\n",
       "    .dataframe tbody tr th {\n",
       "        vertical-align: top;\n",
       "    }\n",
       "\n",
       "    .dataframe thead th {\n",
       "        text-align: right;\n",
       "    }\n",
       "</style>\n",
       "<table border=\"1\" class=\"dataframe\">\n",
       "  <thead>\n",
       "    <tr style=\"text-align: right;\">\n",
       "      <th>y_numeric</th>\n",
       "      <th>0.0</th>\n",
       "      <th>1.0</th>\n",
       "      <th>All</th>\n",
       "    </tr>\n",
       "    <tr>\n",
       "      <th>job</th>\n",
       "      <th></th>\n",
       "      <th></th>\n",
       "      <th></th>\n",
       "    </tr>\n",
       "  </thead>\n",
       "  <tbody>\n",
       "    <tr>\n",
       "      <th>admin.</th>\n",
       "      <td>9057</td>\n",
       "      <td>1350</td>\n",
       "      <td>10407</td>\n",
       "    </tr>\n",
       "    <tr>\n",
       "      <th>blue-collar</th>\n",
       "      <td>8602</td>\n",
       "      <td>635</td>\n",
       "      <td>9237</td>\n",
       "    </tr>\n",
       "    <tr>\n",
       "      <th>entrepreneur</th>\n",
       "      <td>1330</td>\n",
       "      <td>123</td>\n",
       "      <td>1453</td>\n",
       "    </tr>\n",
       "    <tr>\n",
       "      <th>housemaid</th>\n",
       "      <td>951</td>\n",
       "      <td>106</td>\n",
       "      <td>1057</td>\n",
       "    </tr>\n",
       "    <tr>\n",
       "      <th>management</th>\n",
       "      <td>2593</td>\n",
       "      <td>328</td>\n",
       "      <td>2921</td>\n",
       "    </tr>\n",
       "    <tr>\n",
       "      <th>retired</th>\n",
       "      <td>1282</td>\n",
       "      <td>433</td>\n",
       "      <td>1715</td>\n",
       "    </tr>\n",
       "    <tr>\n",
       "      <th>self-employed</th>\n",
       "      <td>1267</td>\n",
       "      <td>149</td>\n",
       "      <td>1416</td>\n",
       "    </tr>\n",
       "    <tr>\n",
       "      <th>services</th>\n",
       "      <td>3639</td>\n",
       "      <td>323</td>\n",
       "      <td>3962</td>\n",
       "    </tr>\n",
       "    <tr>\n",
       "      <th>student</th>\n",
       "      <td>599</td>\n",
       "      <td>275</td>\n",
       "      <td>874</td>\n",
       "    </tr>\n",
       "    <tr>\n",
       "      <th>technician</th>\n",
       "      <td>6002</td>\n",
       "      <td>728</td>\n",
       "      <td>6730</td>\n",
       "    </tr>\n",
       "    <tr>\n",
       "      <th>unemployed</th>\n",
       "      <td>865</td>\n",
       "      <td>144</td>\n",
       "      <td>1009</td>\n",
       "    </tr>\n",
       "    <tr>\n",
       "      <th>unknown</th>\n",
       "      <td>287</td>\n",
       "      <td>34</td>\n",
       "      <td>321</td>\n",
       "    </tr>\n",
       "    <tr>\n",
       "      <th>All</th>\n",
       "      <td>36474</td>\n",
       "      <td>4628</td>\n",
       "      <td>41102</td>\n",
       "    </tr>\n",
       "  </tbody>\n",
       "</table>\n",
       "</div>"
      ],
      "text/plain": [
       "y_numeric        0.0   1.0    All\n",
       "job                              \n",
       "admin.          9057  1350  10407\n",
       "blue-collar     8602   635   9237\n",
       "entrepreneur    1330   123   1453\n",
       "housemaid        951   106   1057\n",
       "management      2593   328   2921\n",
       "retired         1282   433   1715\n",
       "self-employed   1267   149   1416\n",
       "services        3639   323   3962\n",
       "student          599   275    874\n",
       "technician      6002   728   6730\n",
       "unemployed       865   144   1009\n",
       "unknown          287    34    321\n",
       "All            36474  4628  41102"
      ]
     },
     "execution_count": 30,
     "metadata": {},
     "output_type": "execute_result"
    }
   ],
   "source": [
    "table = pd.pivot_table(clean_data_df, values='y', index=['job'], \\\n",
    "                       columns=['y_numeric'], aggfunc=lambda x: len(x), fill_value=0, margins=True)\n",
    "\n",
    "table"
   ]
  },
  {
   "cell_type": "markdown",
   "metadata": {},
   "source": [
    "**Discussion**\n",
    "\n",
    "The pivot table above shows that people with administrative job accounts for the highest number of yes for y value. The next 2 highest number of yes belongs to people with technician and blue-collar job. These 3 numbers are significantly higher compared to the other jobs. So, I would say that job could be a good indicator of y value."
   ]
  },
  {
   "cell_type": "code",
   "execution_count": 31,
   "metadata": {},
   "outputs": [
    {
     "data": {
      "image/png": "[encoded data removed]",
      "text/plain": [
       "<Figure size 800x600 with 2 Axes>"
      ]
     },
     "metadata": {},
     "output_type": "display_data"
    }
   ],
   "source": [
    "corr_matrix = clean_data_df[['campaign', 'pdays', 'previous', 'y_numeric']].corr()\n",
    "\n",
    "plt.figure(figsize=(8, 6))\n",
    "sns.heatmap(corr_matrix, annot=True, cmap='coolwarm', vmin=-1, vmax=1)\n",
    "plt.title('Correlation Heatmap')\n",
    "plt.show()"
   ]
  },
  {
   "cell_type": "markdown",
   "metadata": {},
   "source": [
    "**Discussion**\n",
    "\n",
    "Based on the correlation heatmap above, the attribute 'previous' has the highest positive correlation with y value. However, the value 0.23 is close enough to 0 that it is easier to assume that previous has no correlation with y value. Hence it is not a good identifier of y value."
   ]
  },
  {
   "cell_type": "code",
   "execution_count": 32,
   "metadata": {},
   "outputs": [
    {
     "data": {
      "image/png": "[encoded data removed]",
      "text/plain": [
       "<Figure size 800x600 with 2 Axes>"
      ]
     },
     "metadata": {},
     "output_type": "display_data"
    }
   ],
   "source": [
    "clean_data_df['default_numeric'] = clean_data_df['default'].map({'yes': 1, 'no': 0})\n",
    "clean_data_df['housing_numeric'] = clean_data_df['housing'].map({'yes': 1, 'no': 0})\n",
    "clean_data_df['loan_numeric'] = clean_data_df['loan'].map({'yes': 1, 'no': 0})\n",
    "\n",
    "corr_matrix = clean_data_df[['default_numeric', 'housing_numeric', 'loan_numeric', 'y_numeric']].corr()\n",
    "\n",
    "plt.figure(figsize=(8, 6))\n",
    "sns.heatmap(corr_matrix, annot=True, cmap='coolwarm', vmin=-1, vmax=1)\n",
    "plt.title('Correlation Heatmap')\n",
    "plt.show()"
   ]
  },
  {
   "cell_type": "markdown",
   "metadata": {},
   "source": [
    "**Discussion**\n",
    "\n",
    "The correlation heatmap above clearly shows that there aren't any correlation between housing loan, credit default, personal loan and y value respectively because the numbers are close to 0. So, default, housing and loan are not good indicator of y value."
   ]
  },
  {
   "cell_type": "markdown",
   "metadata": {
    "tags": []
   },
   "source": [
    "***\n",
    "## Section: 4.1 - Evaluation of the Off-The-Shelf KNN Classifier\n",
    "- Select the KNN classifier from the SciKit Learn library and run it on the dataset.\n",
    "***"
   ]
  },
  {
   "cell_type": "markdown",
   "metadata": {},
   "source": [
    "***\n",
    "### Section: 4.1.1 - Configure the off-the-shelf KNN classifier\n",
    "- Use the KNeighborsClassifier from the SciKit Learn library\n",
    "- Explain all setup, parameters and execution options you chose to set, and why.\n",
    "***"
   ]
  },
  {
   "cell_type": "code",
   "execution_count": 33,
   "metadata": {},
   "outputs": [],
   "source": [
    "from sklearn.neighbors import KNeighborsClassifier\n",
    "from sklearn.metrics import confusion_matrix, accuracy_score, classification_report\n",
    "from sklearn.model_selection import train_test_split, cross_val_score\n",
    "from pandas import get_dummies"
   ]
  },
  {
   "cell_type": "markdown",
   "metadata": {},
   "source": [
    "**BENEFIT-COST MODEL**\n",
    "- After doing the calculation, the table below shows that BBI will lose $50 if the model predicted yes but the actual class is no. BBI will gain $150 if the model predicted yes and the actual class is yes too. BBI will gain $200 if the model predicted no but the actual class is yes because there is no cost."
   ]
  },
  {
   "cell_type": "markdown",
   "metadata": {},
   "source": [
    "| Actual Class | Predicted Class | Sale Benefit | Sale Cost | Net Benefit (Benefit-Cost) |\n",
    "|---|---|---|---|---|\n",
    "| NO | NO | 0 | 0 | 0 |\n",
    "| NO | YES  | 0 | -50 | -50 |\n",
    "| YES  | NO | 200 | 0 | 200 |\n",
    "| YES  | YES  | 200 | 50 | 150 |"
   ]
  },
  {
   "cell_type": "markdown",
   "metadata": {},
   "source": [
    "**HELPER FUNCTIONS**\n",
    "\n",
    "- I used the helper functions from the Graduate Student Final Project Example.\n",
    "- The value for nb_matrix is taken from the benefit-cost model table above."
   ]
  },
  {
   "cell_type": "code",
   "execution_count": 34,
   "metadata": {},
   "outputs": [],
   "source": [
    "def calculate_net_benefit_per_record(confusion_matrix):\n",
    "#               PREDICTED VALUES\n",
    "#                  0   1 \n",
    "    nb_matrix = [[ 0, -50],   # 0 (term deposit = no) TRUE VALUES\n",
    "                 [ 0, 150]]   # 1 (term deposit = yes)\n",
    "\n",
    "    total = 0\n",
    "    for r in range(0, 2):\n",
    "        for c in range(0, 2):\n",
    "            #print(nb_matrix[r][c], confusion_matrix[r][c])\n",
    "            total = total + nb_matrix[r][c] * confusion_matrix[r][c]\n",
    "\n",
    "    return total / np.sum(confusion_matrix)"
   ]
  },
  {
   "cell_type": "code",
   "execution_count": 35,
   "metadata": {},
   "outputs": [],
   "source": [
    "number_of_prospect = 40000\n",
    "def evaluate_classifier_results(y_test, y_pred):\n",
    "    conf_matrix = confusion_matrix(y_test, y_pred)\n",
    "    print(\"Confusion Matrix:\")\n",
    "    print(pd.DataFrame(conf_matrix),\"\\n\")  # true values in rows, predicted in columns\n",
    "    print(\"Classification Report:\")\n",
    "    print(classification_report(y_test, y_pred, zero_division=0))\n",
    "    net_benefit = calculate_net_benefit_per_record(conf_matrix)\n",
    "    print(\"Net Benefit per Record: $ %10.2f\" % (net_benefit))\n",
    "    print(\"Net Benefit per Year:   $ %10.2f\" % (net_benefit * number_of_prospect))"
   ]
  },
  {
   "cell_type": "markdown",
   "metadata": {},
   "source": [
    "**Explanation:**\n",
    "\n",
    "Based on the modeling that I've done above, I decided to choose age, job, marital, and duration for my X dataset and my y dataset will be the y_numeric attributes. Before I compute my KNN classifier, I convert the marital status from string to float, and I used OneHotEncoding, shown in the Preprocessing example file provided, to convert job string type to float. I did this because KNN classifier only accepts float notation."
   ]
  },
  {
   "cell_type": "code",
   "execution_count": 36,
   "metadata": {},
   "outputs": [],
   "source": [
    "clean_data_df['marital_numeric'] = clean_data_df['marital'].map({'married': 1, 'single': 0, 'divorced': -1})\n",
    "\n",
    "#NominalEncoding - OneHotEncoding\n",
    "clean_data_df = get_dummies(clean_data_df, columns=['job'], dtype=float, drop_first=False, dummy_na=True)\n"
   ]
  },
  {
   "cell_type": "code",
   "execution_count": 37,
   "metadata": {},
   "outputs": [
    {
     "name": "stdout",
     "output_type": "stream",
     "text": [
      "Index(['IDX', 'age', 'marital', 'education', 'default', 'housing', 'loan',\n",
      "       'contact', 'month', 'day_of_week', 'duration', 'campaign', 'pdays',\n",
      "       'previous', 'poutcome', 'emp.var.rate', 'cons.price.idx', 'euribor3m',\n",
      "       'nr.employed', 'y', 'y_numeric', 'age_group', 'duration_group',\n",
      "       'default_numeric', 'housing_numeric', 'loan_numeric', 'marital_numeric',\n",
      "       'job_admin.', 'job_blue-collar', 'job_entrepreneur', 'job_housemaid',\n",
      "       'job_management', 'job_retired', 'job_self-employed', 'job_services',\n",
      "       'job_student', 'job_technician', 'job_unemployed', 'job_unknown',\n",
      "       'job_nan'],\n",
      "      dtype='object')\n"
     ]
    }
   ],
   "source": [
    "print(clean_data_df.columns)"
   ]
  },
  {
   "cell_type": "markdown",
   "metadata": {},
   "source": [
    "***\n",
    "### Section: 4.1.2 - Run and evaluate the classifier\n",
    "- Try several values of the K parameter and compare the results.\n",
    "- Evaluate the performance of the classifier, using the evaluation methods you defined above.\n",
    "***"
   ]
  },
  {
   "cell_type": "markdown",
   "metadata": {},
   "source": [
    "**Explanation:**\n",
    "\n",
    "Once I did all the necessary conversion, I split both X and y dataset into train and test datasets. I used KNeighborsClassifier function to build the classification model. Then, I train and test the model using the train and test datasets. I chose the value 5 for n_neighbors because its a default value, so I think its a good starting point since it is difficult to decide what is the perfect n_neighbors value."
   ]
  },
  {
   "cell_type": "code",
   "execution_count": 38,
   "metadata": {},
   "outputs": [
    {
     "name": "stdout",
     "output_type": "stream",
     "text": [
      "Confusion Matrix:\n",
      "       0    1\n",
      "0  10483  459\n",
      "1   1012  377 \n",
      "\n",
      "Classification Report:\n",
      "              precision    recall  f1-score   support\n",
      "\n",
      "         0.0       0.91      0.96      0.93     10942\n",
      "         1.0       0.45      0.27      0.34      1389\n",
      "\n",
      "    accuracy                           0.88     12331\n",
      "   macro avg       0.68      0.61      0.64     12331\n",
      "weighted avg       0.86      0.88      0.87     12331\n",
      "\n",
      "Net Benefit per Record: $       2.72\n",
      "Net Benefit per Year:   $  108993.59\n"
     ]
    }
   ],
   "source": [
    "X = clean_data_df[['age', 'job_admin.',\n",
    "       'job_blue-collar', 'job_entrepreneur', 'job_housemaid',\n",
    "       'job_management', 'job_retired', 'job_self-employed', 'job_services',\n",
    "       'job_student', 'job_technician', 'job_unemployed', 'marital_numeric', 'duration']]\n",
    "y = clean_data_df['y_numeric'].values.ravel()\n",
    "\n",
    "X_train, X_test, y_train, y_test = train_test_split(X, y, test_size=0.30)\n",
    "\n",
    "knn = KNeighborsClassifier(n_neighbors=5)\n",
    "knn.fit(X_train, y_train)\n",
    "knn_y_pred = knn.predict(X_test)\n",
    "\n",
    "evaluate_classifier_results(y_test, knn_y_pred)"
   ]
  },
  {
   "cell_type": "markdown",
   "metadata": {},
   "source": [
    "**Discussion:**\n",
    "\n",
    "From the confusion matrix, we can see that there are 1008 false negatives, 10532 true negatives which are significantly higher than false negatives count. Meanwhile our true and false positives counts are different by 1 count. Since our true and false positives counts are pretty similar, I would say that the performance of KNN classifier is still poor because we are losing $50 for every 395 prospects, and the count of false negatives are also high.\n",
    "\n",
    "From the classification report, we can say that our model is correct 89% of the time.\n",
    "\n",
    "So in a year, my classification model based on KNN algorithm predicted that BBI net benefit will be $782580.49."
   ]
  },
  {
   "cell_type": "markdown",
   "metadata": {},
   "source": [
    "**Explanation:**\n",
    "\n",
    "Next, I will tune the K parameter and compare its result to find the best K."
   ]
  },
  {
   "cell_type": "code",
   "execution_count": 39,
   "metadata": {},
   "outputs": [],
   "source": [
    "k_list = list(range(1,10,1))\n",
    "# creating list of cv scores\n",
    "knn_cv_scores = []\n",
    "\n",
    "for k in k_list:\n",
    "    knn = KNeighborsClassifier(n_neighbors=k)\n",
    "    knn_scores = cross_val_score(knn, X_train, y_train.squeeze(), cv=10, scoring='accuracy')\n",
    "    knn_cv_scores.append(knn_scores.mean())"
   ]
  },
  {
   "cell_type": "code",
   "execution_count": 40,
   "metadata": {},
   "outputs": [
    {
     "data": {
      "text/plain": [
       "<Figure size 640x480 with 0 Axes>"
      ]
     },
     "metadata": {},
     "output_type": "display_data"
    },
    {
     "data": {
      "image/png": "[encoded data removed]",
      "text/plain": [
       "<Figure size 1500x1000 with 1 Axes>"
      ]
     },
     "metadata": {},
     "output_type": "display_data"
    }
   ],
   "source": [
    "# Modeled from: https://www.kaggle.com/skalskip/iris-data-visualization-and-knn-classification\n",
    "\n",
    "def optimal_knn_value (k_list, knn_cv_scores):\n",
    "\n",
    "    plt.figure()\n",
    "    plt.figure(figsize=(15,10))\n",
    "    plt.title('The optimal number of neighbors', fontsize=20, fontweight='bold')\n",
    "    plt.xlabel('Number of Neighbors K', fontsize=15)\n",
    "    plt.ylabel('Accuracy', fontsize=15)\n",
    "    sns.set_style(\"whitegrid\")\n",
    "    plt.plot(k_list, knn_cv_scores)\n",
    "    plt.show()\n",
    "    \n",
    "optimal_knn_value(k_list, knn_cv_scores)"
   ]
  },
  {
   "cell_type": "markdown",
   "metadata": {},
   "source": [
    "**Discussion:**\n",
    "\n",
    "After trying out several K values and comparing its result, we can see from the graph above that the accuracy score increases whenever K is an even number. So based on the graph above, the, the optimal number of neighbors for our model or the best K would be 8 because it has the highest accuracy score. To be more specific, the accuracy score might increases as the value K increases, but for the sake of simplicity, I limit the range to 10."
   ]
  },
  {
   "cell_type": "markdown",
   "metadata": {},
   "source": [
    "***\n",
    "### Section: 4.1.3 - Evaluate the choice of the KNN classifier\n",
    "- What characteristics of the problem and data made KNN a good or bad choice?\n",
    "***"
   ]
  },
  {
   "cell_type": "markdown",
   "metadata": {},
   "source": [
    "**Discussion:**\n",
    "\n",
    "Most of the attributes in the datasets are categorical, or not continuous, so I had to convert the chosen attributes such as marital and job to numerical values, because KNN algorithm only accepts numerical values such as float in order to create the classification model. So it does require an extra step in order to use KNN algorithm. Therefore, in my opinion, KNN classifier would not be my first choice if I were to create a classification model for this dataset."
   ]
  },
  {
   "cell_type": "markdown",
   "metadata": {
    "tags": []
   },
   "source": [
    "***\n",
    "## Section: 4.2 - Evaluation of Off-The-Shelf Classifier #2\n",
    "- As with the KNN classifier above, choose another classifier from the SciKit Learn library (Decision Tree, SVM, Logistic Regression, etc.) and run it on the dataset.\n",
    "***"
   ]
  },
  {
   "cell_type": "markdown",
   "metadata": {},
   "source": [
    "***\n",
    "### Section: 4.2.1 - Configure the off-the-shelf classifier\n",
    "- Use the appropriate classifier from the SciKit Learn library.\n",
    "- Explain all setup, parameters and execution options you chose to set, and why.\n",
    "***"
   ]
  },
  {
   "cell_type": "markdown",
   "metadata": {},
   "source": [
    "**DECISION TREE**\n",
    "- I choose Decision Tree for the second classifier."
   ]
  },
  {
   "cell_type": "code",
   "execution_count": 41,
   "metadata": {},
   "outputs": [],
   "source": [
    "from sklearn.tree import DecisionTreeClassifier"
   ]
  },
  {
   "cell_type": "markdown",
   "metadata": {},
   "source": [
    "***\n",
    "### Section: 4.2.2 - Run and evaluate the classifier\n",
    "- Try several values of the parameters (if appropriate) and compare the results.\n",
    "- Evaluate the performance of the classifier, using the evaluation methods you defined above.\n",
    "***"
   ]
  },
  {
   "cell_type": "markdown",
   "metadata": {},
   "source": [
    "**Explanation:**\n",
    "\n",
    "All necessary conversion has been done in previous steps. I used DecisionTreeClassifier function to build the classification model. Then, I train and test the model using the train and test datasets. I chose the value 7 for max_depth because the dataset is large, so deeper tree may perform better."
   ]
  },
  {
   "cell_type": "code",
   "execution_count": 42,
   "metadata": {},
   "outputs": [
    {
     "name": "stdout",
     "output_type": "stream",
     "text": [
      "Confusion Matrix:\n",
      "       0    1\n",
      "0  10693  287\n",
      "1    998  353 \n",
      "\n",
      "Classification Report:\n",
      "              precision    recall  f1-score   support\n",
      "\n",
      "         0.0       0.91      0.97      0.94     10980\n",
      "         1.0       0.55      0.26      0.35      1351\n",
      "\n",
      "    accuracy                           0.90     12331\n",
      "   macro avg       0.73      0.62      0.65     12331\n",
      "weighted avg       0.87      0.90      0.88     12331\n",
      "\n",
      "Net Benefit per Record: $       3.13\n",
      "Net Benefit per Year:   $  125212.88\n"
     ]
    }
   ],
   "source": [
    "X = clean_data_df[['age', 'job_admin.',\n",
    "       'job_blue-collar', 'job_entrepreneur', 'job_housemaid',\n",
    "       'job_management', 'job_retired', 'job_self-employed', 'job_services',\n",
    "       'job_student', 'job_technician', 'job_unemployed', 'marital_numeric', 'duration']]\n",
    "y = clean_data_df['y_numeric'].values.ravel()\n",
    "\n",
    "X_train, X_test, y_train, y_test = train_test_split(X, y, test_size=0.30)\n",
    "\n",
    "dtc = DecisionTreeClassifier(criterion='gini', max_depth=7)\n",
    "dtc.fit(X_train, y_train)\n",
    "dtc_y_pred = dtc.predict(X_test)\n",
    "\n",
    "evaluate_classifier_results(y_test, dtc_y_pred)"
   ]
  },
  {
   "cell_type": "markdown",
   "metadata": {},
   "source": [
    "**Discussion:**\n",
    "\n",
    "From the confusion matrix, we can see that there are 1024 false negatives, 10624 true negatives which are significantly higher than false negatives count. Meanwhile our true positives count is 384 and count of false positives is 299. With only 299 counts for false positives, we are not losing as much money, but it is still not an ideal count value to have.\n",
    "\n",
    "From the classification report, we can say that our model is correct 89% of the time.\n",
    "\n",
    "So in a year, my classification model based on Decision Tree algorithm predicted that BBI net benefit will be $802692.40."
   ]
  },
  {
   "cell_type": "code",
   "execution_count": 43,
   "metadata": {},
   "outputs": [],
   "source": [
    "depth_list = list(range(1,15,1))\n",
    "# creating list of cv scores\n",
    "dtc_cv_scores = []\n",
    "\n",
    "for d in depth_list:\n",
    "    dtc = DecisionTreeClassifier(criterion='gini', max_depth=d)\n",
    "    dtc_scores = cross_val_score(dtc, X_train, y_train.squeeze(), cv=10, scoring='accuracy')\n",
    "    dtc_cv_scores.append(dtc_scores.mean())"
   ]
  },
  {
   "cell_type": "code",
   "execution_count": 44,
   "metadata": {},
   "outputs": [
    {
     "data": {
      "text/plain": [
       "<Figure size 640x480 with 0 Axes>"
      ]
     },
     "metadata": {},
     "output_type": "display_data"
    },
    {
     "data": {
      "image/png": "[encoded data removed]",
      "text/plain": [
       "<Figure size 1500x1000 with 1 Axes>"
      ]
     },
     "metadata": {},
     "output_type": "display_data"
    }
   ],
   "source": [
    "# Modeled from: https://www.kaggle.com/skalskip/iris-data-visualization-and-knn-classification\n",
    "\n",
    "def optimal_knn_value (depth_list, dtc_cv_scores):\n",
    "\n",
    "    plt.figure()\n",
    "    plt.figure(figsize=(15,10))\n",
    "    plt.title('The optimal max_depth', fontsize=20, fontweight='bold')\n",
    "    plt.xlabel('Max depth', fontsize=15)\n",
    "    plt.ylabel('Accuracy', fontsize=15)\n",
    "    sns.set_style(\"whitegrid\")\n",
    "    plt.plot(depth_list, dtc_cv_scores)\n",
    "    plt.show()\n",
    "    \n",
    "optimal_knn_value(depth_list, dtc_cv_scores)"
   ]
  },
  {
   "cell_type": "markdown",
   "metadata": {},
   "source": [
    "**Discussion**\n",
    "\n",
    "As the graph suggested, the optimal max depth for our Decision Tree would be 5. From there, the accuracy score decreases as the max depth value increases. However, after running the code several times, it is safe to say that the optimal max depth is in between 5-7."
   ]
  },
  {
   "cell_type": "markdown",
   "metadata": {},
   "source": [
    "***\n",
    "### Section: 4.2.3 - Evaluate the choice of the classifier\n",
    "- What characteristics of the problem and data made the classifier a good or bad choice?\n",
    "***"
   ]
  },
  {
   "cell_type": "markdown",
   "metadata": {},
   "source": [
    "**Discussion**\n",
    "\n",
    "In my opinion, I think Decision Tree classifier would be a good choice to create a classification model for this dataset because our dataset has a good mix of numerical and categorical data, and Decision Tree algorithm can handle both numerical and categorical data. In this case however, since Scikit Learn's Decision Tree's implementation doesn't support numerical data, I convert the chosen categorical data to numerical."
   ]
  },
  {
   "cell_type": "markdown",
   "metadata": {
    "tags": []
   },
   "source": [
    "***\n",
    "## Section: 4.3 - Evaluation of Off-The-Shelf Classifier #3\n",
    "- As with the KNN classifier above, choose another classifier from the SciKit Learn library (Decision Tree, SVM, Logistic Regression, etc.) and run it on the dataset.\n",
    "***"
   ]
  },
  {
   "cell_type": "markdown",
   "metadata": {},
   "source": [
    "***\n",
    "### Section: 4.3.1 - Configure the off-the-shelf classifier\n",
    "- Use the appropriate classifier from the SciKit Learn library.\n",
    "- Explain all setup, parameters and execution options you chose to set, and why.\n",
    "***"
   ]
  },
  {
   "cell_type": "markdown",
   "metadata": {},
   "source": [
    "**NAIVE BAYES**\n",
    "- Since there are many types of Naive Bayes algorithms, I specifically choose to use Gaussian Naive Bayes algorithm because it works well with continuous data."
   ]
  },
  {
   "cell_type": "code",
   "execution_count": 45,
   "metadata": {},
   "outputs": [],
   "source": [
    "from sklearn.naive_bayes import GaussianNB"
   ]
  },
  {
   "cell_type": "markdown",
   "metadata": {},
   "source": [
    "***\n",
    "### Section: 4.3.2 - Run and evaluate the classifier\n",
    "- Try several values of the parameters (if appropriate) and compare the results.\n",
    "- Evaluate the performance of the classifier, using the evaluation methods you defined above.\n",
    "***"
   ]
  },
  {
   "cell_type": "markdown",
   "metadata": {},
   "source": [
    "**Explanation:**\n",
    "All necessary conversion has been done in previous steps. I used GaussionNB function to build the classification model. Then, I train and test the model using the train and test datasets."
   ]
  },
  {
   "cell_type": "code",
   "execution_count": 46,
   "metadata": {},
   "outputs": [
    {
     "name": "stdout",
     "output_type": "stream",
     "text": [
      "Confusion Matrix:\n",
      "      0     1\n",
      "0  9894  1024\n",
      "1   897   516 \n",
      "\n",
      "Classification Report:\n",
      "              precision    recall  f1-score   support\n",
      "\n",
      "         0.0       0.92      0.91      0.91     10918\n",
      "         1.0       0.34      0.37      0.35      1413\n",
      "\n",
      "    accuracy                           0.84     12331\n",
      "   macro avg       0.63      0.64      0.63     12331\n",
      "weighted avg       0.85      0.84      0.85     12331\n",
      "\n",
      "Net Benefit per Record: $       2.12\n",
      "Net Benefit per Year:   $   84989.05\n"
     ]
    }
   ],
   "source": [
    "X = clean_data_df[['age', 'job_admin.',\n",
    "       'job_blue-collar', 'job_entrepreneur', 'job_housemaid',\n",
    "       'job_management', 'job_retired', 'job_self-employed', 'job_services',\n",
    "       'job_student', 'job_technician', 'job_unemployed', 'marital_numeric', 'duration']]\n",
    "y = clean_data_df['y_numeric'].values.ravel()\n",
    "\n",
    "X_train, X_test, y_train, y_test = train_test_split(X, y, test_size=0.30)\n",
    "\n",
    "gnb = GaussianNB()\n",
    "gnb.fit(X_train, y_train)\n",
    "gnb_y_pred = gnb.predict(X_test)\n",
    "\n",
    "evaluate_classifier_results(y_test, gnb_y_pred)"
   ]
  },
  {
   "cell_type": "markdown",
   "metadata": {},
   "source": [
    "**Discussion:**\n",
    "\n",
    "From the confusion matrix, we can see that there are 885 false negatives, 9930 true negatives which are significantly higher than false negatives count. Meanwhile our true positives count is 525 and count of false positives is 991. In my opinion, the count values are not looking good with false positives having a count of 991, higher than true positives. This goes the same with false negatives having a pretty high count value.\n",
    "\n",
    "From the classification report, we can say that our model is correct 85% of the time.\n",
    "\n",
    "So in a year, my classification model based on Gaussian Naive Bayes algorithm predicted that BBI net benefit will be $668883.30."
   ]
  },
  {
   "cell_type": "markdown",
   "metadata": {},
   "source": [
    "**Explanation:** Gaussian Naive Bayes algorithm does not have any parameter. Therefore, tuning parameter value steps will be ignore."
   ]
  },
  {
   "cell_type": "markdown",
   "metadata": {},
   "source": [
    "***\n",
    "### Section: 4.3.3 - Evaluate the choice of the classifier\n",
    "- What characteristics of the problem and data made the classifier a good or bad choice?\n",
    "***"
   ]
  },
  {
   "cell_type": "markdown",
   "metadata": {},
   "source": [
    "**Discussion:**\n",
    "\n",
    "Gaussian Naive Bayes might be a bad choice because Gaussian Naive Bayes assumes that attributes are independent of each other, which might not be true in this case because some of my attributes might relate to one another. Other than that, Gaussian Naive Bayes prefers the numerical data to follow a Gaussian distribution, which it may not follow."
   ]
  },
  {
   "cell_type": "markdown",
   "metadata": {
    "tags": []
   },
   "source": [
    "***\n",
    "# Section: 5 - Evaluation - **DO THIS!**\n",
    "In this step, all of the analyses and/or models are evaluated and compared for quality and relevance / usefulness.\n",
    "\n",
    "NOTE: This step is tightly coupled and iterative with the Modeling step.\n",
    "***"
   ]
  },
  {
   "cell_type": "markdown",
   "metadata": {
    "tags": []
   },
   "source": [
    "***\n",
    "## Section: 5.1 - Compare the performance of these classifiers to each other\n",
    "- What are their strong and weak points?\n",
    "***"
   ]
  },
  {
   "cell_type": "markdown",
   "metadata": {},
   "source": [
    "**Discussion:**\n",
    "\n",
    "In terms of **runtime**, Decision Tree and Gaussian Naive Bayes have faster runtime compare to KNN algorithms.   \n",
    "In terms of **accuracy**, Gaussian Naive Bayes outputs the lowest accuracy compare to Decision Tree and KNN, where both outputs similar accuracy of 89%.  \n",
    "In terms of **handling attribute types**, Decision Tree are able to handle both numerical and categorical attributes, meanwhile KNN and Gaussian Naive Bayes prefer handling numerical data.  \n",
    "In terms of **data dependence**, only Gaussian Naive Bayes assumes the attributes are independent.   "
   ]
  },
  {
   "cell_type": "markdown",
   "metadata": {
    "tags": []
   },
   "source": [
    "***\n",
    "## Section: 5.2 - Choose a Best Classifier\n",
    "- Choose one of the three classifiers as best and explain why.\n",
    "***"
   ]
  },
  {
   "cell_type": "markdown",
   "metadata": {},
   "source": [
    "**Discussion**\n",
    "\n",
    "I choose Decision Tree as the best classifier because it resulted in 89% accuracy and net benefit value of $802692.40. In general, Decision Tree works well with this dataset because it handles both categorical and numerical attributes well. So, I won't need to do any extra conversion."
   ]
  },
  {
   "cell_type": "markdown",
   "metadata": {
    "jp-MarkdownHeadingCollapsed": true,
    "tags": []
   },
   "source": [
    "***\n",
    "# Section: 6 - Deployment - **SKIP THIS!**\n",
    "In this step, data and resulting models and/or analyses are put to use. This may include:\n",
    "- Deploying data mining / machine learning algorithms to production.\n",
    "- Communicating the results of the analyses to business stakeholders, so they can take action.\n",
    "***"
   ]
  },
  {
   "cell_type": "code",
   "execution_count": null,
   "metadata": {},
   "outputs": [],
   "source": []
  },
  {
   "cell_type": "markdown",
   "metadata": {
    "tags": []
   },
   "source": [
    "**Discussion:**\n",
    "\n",
    "Fill in..."
   ]
  },
  {
   "cell_type": "code",
   "execution_count": null,
   "metadata": {
    "tags": []
   },
   "outputs": [],
   "source": []
  },
  {
   "cell_type": "markdown",
   "metadata": {
    "tags": []
   },
   "source": [
    "***\n",
    "# Section: Conclusions - **DO THIS!**\n",
    "- What did you learn from this exercise?\n",
    "***"
   ]
  },
  {
   "cell_type": "markdown",
   "metadata": {
    "tags": []
   },
   "source": [
    "**Discussion:**\n",
    "\n",
    "In conclusion, I had fun learning how to create a classification model using three different types of classifier, and seeing its result. I realized how important it is to do preprocessing to clean up the dataset and modeling to choose the right attributes that will help train our models. Other than that, this exercise has helped me further understand how the classifiers that I chose classifies data, and in what situation would each classifier be perfect for."
   ]
  }
 ],
 "metadata": {
  "kernelspec": {
   "display_name": "Python 3",
   "language": "python",
   "name": "python3"
  },
  "language_info": {
   "codemirror_mode": {
    "name": "ipython",
    "version": 3
   },
   "file_extension": ".py",
   "mimetype": "text/x-python",
   "name": "python",
   "nbconvert_exporter": "python",
   "pygments_lexer": "ipython3",
   "version": "3.9.6"
  },
  "latex_envs": {
   "LaTeX_envs_menu_present": true,
   "autoclose": false,
   "autocomplete": true,
   "bibliofile": "biblio.bib",
   "cite_by": "apalike",
   "current_citInitial": 1,
   "eqLabelWithNumbers": true,
   "eqNumInitial": 1,
   "hotkeys": {
    "equation": "Ctrl-E",
    "itemize": "Ctrl-I"
   },
   "labels_anchors": false,
   "latex_user_defs": false,
   "report_style_numbering": false,
   "user_envs_cfg": false
  }
 },
 "nbformat": 4,
 "nbformat_minor": 4
}
